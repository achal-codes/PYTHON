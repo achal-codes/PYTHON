{
 "cells": [
  {
   "cell_type": "markdown",
   "id": "59a70b7f",
   "metadata": {},
   "source": [
    "# Using Python Modules and Packages\n",
    "\n",
    "Python supports modular programming. It allows programs to be organized into modules and packages. There are two aspects to working with modules and packages:\n",
    "1. Using available modules and packages.\n",
    "1. Writing your own modules and packages for others to use.\n",
    "\n",
    "A **module** is a single Python file that can be imported into your program. It must usually reside in the same directory (folder) as your program. A **package** is a single file or a collection of files arranged in a hierarchy of directories. Packages are either standard packages that are built-in into Python or are provided by third-parties. Third-party packages reside in a central repository such as **PyPI** and can be managed using a package manager such as **`pip`**. There are other sources for packages, such as **anaconda repository** or **conda-forge** and package managers such as **`conda`**. The key difference between modules and packages is that packages are installed to a central location on a machine and are available to anyone who can use the Python environment installed on the machine.\n",
    "\n",
    "You can write your own modules and import them into the programs you write. You can even distribute your module to others and they can use them as modules provided the file resides in the same directory as the program using it. You can write your own packages too and use them, and even distribute them to others. But one must know where they reside and take appropriate steps to import them correctly.\n",
    "\n",
    "It is possible to submit your package to PyPI, but one must follow a few additional steps before uploading it to PyPI.\n",
    "\n",
    "Example of a built-in package is the **`math`** module that provides additional mathematical functions and constants, similar to **`math.h`** in **C**. Example of a third-party package is the **`numpy`** package that provides the n-dimensional array data structure and accompanying operators and functions."
   ]
  },
  {
   "cell_type": "markdown",
   "id": "c334d047",
   "metadata": {},
   "source": [
    "## Importing a Built-in Package\n",
    "\n",
    "The first thing to know is the name of the package and its contents that are of interest to you. For example you must know that the **`math`** package contains all trigonometric, logarithmic, exponential functions and that in case you need to use those functions, you must import **`math`**.\n",
    "\n",
    "There are several ways to import a package into your program. When a packge is imported into your program, it usually creates a separate **namespace** having the same name as the name of the package. Everything imported from the package resides inside this namespace. This helps modularity. Thus, to use a function named **`sqrt()`** from the package **`math`**, we must first import the **`math`** package which creates a namespace **`math`** and to access the **`sqrt()`** function, we must access it as **`math.sqrt()`**. That is as **`namespace.function`**.\n",
    "\n",
    "This is useful because there happens to be a function with the same name in another package **`cmath`** and also in **`numpy`**. If we imported all these packages then we can access the **`sqrt()`** function in each of these packages without name conflict due to the separate namespaces. Thus **`math.sqrt()`**, **`cmath.sqrt()`** and **`numpy.sqrt()`** are distinct and can co-exist.\n",
    "\n",
    "The different ways to import a package are as follows:\n",
    "1. Import the package with its own namespace: **`import math`**\n",
    "1. Import the package with an alternate name for the namespace, usually a shorter name: **`import numpy as np`**. This makes it easier to repeatedly type the name of the namespace. This has the advantage that you don't have to prefix the name of the namespace before the function as the function resides in the global namespace.\n",
    "1. Import selected objects from a package (instead of eveything) into the global namespace: **`from math import sqrt`**.\n",
    "1. Import selected objects from a package (instead of eveything) into the global namespace and assign then an alternate (usually shorter) names: **`from cmath import sqrt as csqrt`**."
   ]
  },
  {
   "cell_type": "code",
   "execution_count": 4,
   "id": "2116fa60",
   "metadata": {},
   "outputs": [
    {
     "name": "stdout",
     "output_type": "stream",
     "text": [
      "4.0\n",
      "3.141592653589793\n"
     ]
    }
   ],
   "source": [
    "import math\n",
    "\n",
    "print(math.sqrt(16))\n",
    "print(math.pi)"
   ]
  },
  {
   "cell_type": "code",
   "execution_count": 2,
   "id": "380d15c3",
   "metadata": {},
   "outputs": [
    {
     "name": "stdout",
     "output_type": "stream",
     "text": [
      "3j\n"
     ]
    }
   ],
   "source": [
    "import cmath\n",
    "\n",
    "print(cmath.sqrt(-9))"
   ]
  },
  {
   "cell_type": "code",
   "execution_count": 5,
   "id": "b376206b",
   "metadata": {},
   "outputs": [
    {
     "name": "stdout",
     "output_type": "stream",
     "text": [
      "4.0 3j 3.141592653589793\n"
     ]
    }
   ],
   "source": [
    "from math import sqrt, pi\n",
    "from cmath import sqrt as csqrt\n",
    "\n",
    "print(sqrt(16), csqrt(-9), pi)"
   ]
  },
  {
   "cell_type": "markdown",
   "id": "03b9ee68",
   "metadata": {},
   "source": [
    "## Writing Your Own Module\n",
    "\n",
    "Writing your own module is simple and straight forward. Every Python program file is in fact a module. It can be simply be imported into other programs that you write. For this to work, it is best if the module resides in the same directory as the new program you are writing. You can import modules residing in other directories but describing its path, while possible, is not portable. So we will assume that the module and the program that imports that module both reside in the same directory.\n",
    "\n",
    "Your program can import your module with the **`import`** keyword. If the name the Python file containing your module is, as an example, **`vector.py`**, it can be imported with the statement **`import vector`**, without the **`.py`**. Presumably, **`vector.py`** contains some useful functions that simplify working with vectors, such as adding vectors, computing dot product, cross product etc. In addition to functions, the module may also contain some special constants and perhaps some executable statements.\n",
    "\n",
    "When you import a module, the following things happen:\n",
    "1. The module is interpreted, and if there are any executable statements, they are executed.\n",
    "1. A new namespace is created (if you use the **`import module`** approach and evry function and constant is available under this namespace.\n",
    "1. If a module is imported a second time in the same program, it is not imported a second time.\n",
    "\n",
    "Let us write a simple module to find the roots of a quadratic equation and use it in our program, instead of writing the function to do this directly in our program (presumably because other programs we may write later may also need this facility). Let us call the Python file containing this function as **`quadratic.py`** and this is how the file must look:"
   ]
  },
  {
   "cell_type": "code",
   "execution_count": 6,
   "id": "79449dbd",
   "metadata": {},
   "outputs": [
    {
     "name": "stdout",
     "output_type": "stream",
     "text": [
      "Real unequal roots: -2.2807764064044154 -0.21922359359558485\n",
      "Real equal roots: -1.0 -1.0\n",
      "Error: Roots are imaginary\n",
      "Imaginary roots: None None\n"
     ]
    }
   ],
   "source": [
    "# File: quadratic.py\n",
    "\n",
    "import math\n",
    "\n",
    "def quadratic_roots(a, b, c):\n",
    "    d = b**2 - (4 * a * c)  # discriminant\n",
    "    if d < 0:\n",
    "        print('Error: Roots are imaginary')\n",
    "        return None, None\n",
    "    x1 = (-b - math.sqrt(d)) / (2 * a)\n",
    "    x2 = (-b + math.sqrt(d)) / (2 * a)\n",
    "    return x1, x2\n",
    "\n",
    "if __name__ == '__main__':\n",
    "    # Test the function quadratic_roots()\n",
    "    x1, x2 = quadratic_roots(2, 5, 1)\n",
    "    print('Real unequal roots:', x1, x2)\n",
    "    x1, x2 = quadratic_roots(1, 2, 1)\n",
    "    print('Real equal roots:', x1, x2)\n",
    "    x1, x2 = quadratic_roots(5, 1, 2)\n",
    "    print('Imaginary roots:', x1, x2)"
   ]
  },
  {
   "cell_type": "markdown",
   "id": "6168bc26",
   "metadata": {},
   "source": [
    "This does not work correctly inside a Notebook as it is a different type of Python environment. This must be written in a separate file anmed **`quadratic.py`** and saved in a directory. It must then be imported into your program where you wish to use it with the statement **`import vector`**.\n",
    "\n",
    "Note the following:\n",
    "1. If the **`vector.py`** program is executed directly from the command prompt with the command **`python vector.py`** the the value of **`__name__` object is **`__main__`** and the lines which test the **`quadraticroots()`** function will be executed.\n",
    "1. If the same file is imported into another program, **`__name__`** is set to the name of the file, namelu **`vector`** and as a result the **`if __name__ == '__main__'`** evaluates to **`False`** and the statements belonging to that **`if`** block are not executed.\n",
    "\n",
    "This is how your program could import and make use of the module."
   ]
  },
  {
   "cell_type": "code",
   "execution_count": 11,
   "id": "7a9ee20a",
   "metadata": {},
   "outputs": [
    {
     "name": "stdout",
     "output_type": "stream",
     "text": [
      "-2.2807764064044154 -0.21922359359558485\n"
     ]
    }
   ],
   "source": [
    "# File: test_prog.py\n",
    "\n",
    "import quadratic\n",
    "\n",
    "x1, x2 = quadratic.quadratic_roots(2, 5, 1)\n",
    "print(x1, x2)"
   ]
  },
  {
   "cell_type": "markdown",
   "id": "cbcfe0ef",
   "metadata": {},
   "source": [
    "An alternate way to do the same is to import **`quadratic_roots`** into the global namespace."
   ]
  },
  {
   "cell_type": "code",
   "execution_count": 12,
   "id": "8fc17fd0",
   "metadata": {},
   "outputs": [
    {
     "name": "stdout",
     "output_type": "stream",
     "text": [
      "-2.2807764064044154 -0.21922359359558485\n"
     ]
    }
   ],
   "source": [
    "from quadratic import quadratic_roots\n",
    "\n",
    "x1, x2 = quadratic_roots(2, 5, 1)\n",
    "print(x1, x2)"
   ]
  }
 ],
 "metadata": {
  "kernelspec": {
   "display_name": "Python 3",
   "language": "python",
   "name": "python3"
  },
  "language_info": {
   "codemirror_mode": {
    "name": "ipython",
    "version": 3
   },
   "file_extension": ".py",
   "mimetype": "text/x-python",
   "name": "python",
   "nbconvert_exporter": "python",
   "pygments_lexer": "ipython3",
   "version": "3.9.4"
  }
 },
 "nbformat": 4,
 "nbformat_minor": 5
}
