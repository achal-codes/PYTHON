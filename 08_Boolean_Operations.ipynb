{
 "cells": [
  {
   "cell_type": "markdown",
   "id": "ca551cad",
   "metadata": {},
   "source": [
    "# Boolean Operations\n",
    "\n",
    "Python has the boolean constants **`True`** and **`False`** to represent boolean values. A boolean expression evaluates to one of the two values."
   ]
  },
  {
   "cell_type": "code",
   "execution_count": 2,
   "id": "cd914179",
   "metadata": {},
   "outputs": [
    {
     "name": "stdout",
     "output_type": "stream",
     "text": [
      "<class 'bool'> True\n"
     ]
    }
   ],
   "source": [
    "a = 3 > 2\n",
    "print(type(a), a)"
   ]
  },
  {
   "cell_type": "markdown",
   "id": "229d67e8",
   "metadata": {},
   "source": [
    "The logic operators in Python are:\n",
    "1. Values are equal: **`==`**\n",
    "1. Values are not equal: **`!=`**\n",
    "1. Greater than: **`>`**\n",
    "1. Greater than or equal to: **`>=`**\n",
    "1. Lesser than: **`<`**\n",
    "1. Lesser than or equal to: **`<=`**\n",
    "1. Negate: **`not`**\n",
    "1. Logical **AND**: **`and`**\n",
    "1. Logical **OR**: **`or`**"
   ]
  },
  {
   "cell_type": "code",
   "execution_count": 9,
   "id": "cc58e174",
   "metadata": {},
   "outputs": [
    {
     "name": "stdout",
     "output_type": "stream",
     "text": [
      "True\n",
      "True\n",
      "True\n",
      "False\n",
      "False\n",
      "True\n",
      "True\n",
      "True\n",
      "False\n",
      "True\n",
      "False\n",
      "True\n"
     ]
    }
   ],
   "source": [
    "print(5 == 5)  # True\n",
    "print(5 < 10)  # True\n",
    "print(5 <= 10) # True\n",
    "print(5 > 10)  # False\n",
    "print(5 >= 10) # False\n",
    "print(5 <= 5)  # True\n",
    "print(5 >= 5)  # True\n",
    "print(5 != 10) # True\n",
    "print( 5 != 5) # False\n",
    "print(bool(5)) # True\n",
    "print(bool(0)) # False\n",
    "print(bool(-1))# True"
   ]
  },
  {
   "cell_type": "markdown",
   "id": "ac87a145",
   "metadata": {},
   "source": [
    "Integer **`0`** is **`False`** and any other integer, both positive and negative, is **`True`**. Boolean values can be generated from operations other than comparison. For example, **`in`** keyword checks whether a value belongs to a list, tuple or set. "
   ]
  },
  {
   "cell_type": "code",
   "execution_count": 13,
   "id": "aaab534f",
   "metadata": {},
   "outputs": [
    {
     "name": "stdout",
     "output_type": "stream",
     "text": [
      "True\n",
      "True\n",
      "True\n",
      "False\n",
      "True\n",
      "True\n"
     ]
    }
   ],
   "source": [
    "a = (1, 2, 3, 4, 5)   # Tuple\n",
    "b = [1, 2, 3, 4, 5]   # List\n",
    "c = {1, 2, 3, 4, 5}   # Set\n",
    "print(3 in a)  # True\n",
    "print(3 in b)  # True\n",
    "print(3 in c)  # True\n",
    "print(10 in a) # False\n",
    "print(not 10 in b) # True\n",
    "print(10 not in c) # True"
   ]
  },
  {
   "cell_type": "markdown",
   "id": "7202c5f4",
   "metadata": {},
   "source": [
    "In addition to comparing values of objects, you can also compare the objects themselves (actually, their memory location) with the **``is`** keyword."
   ]
  },
  {
   "cell_type": "code",
   "execution_count": 16,
   "id": "c5ef2c28",
   "metadata": {},
   "outputs": [
    {
     "name": "stdout",
     "output_type": "stream",
     "text": [
      "True\n",
      "False\n",
      "False\n",
      "True\n"
     ]
    }
   ],
   "source": [
    "a = [1, 2, 3, 4, 5]\n",
    "b = a\n",
    "c = a.copy()\n",
    "print(a is b)     # True\n",
    "print(a is c)     # False\n",
    "print(a is not b) # False\n",
    "print(a is not c) # True"
   ]
  },
  {
   "cell_type": "markdown",
   "id": "09f9a882",
   "metadata": {},
   "source": [
    "## Compound Logical Expressions\n",
    "\n",
    "Compound logical expressions can be constructed with logical keywords **`and`**, **`or`** and **`not`**."
   ]
  },
  {
   "cell_type": "code",
   "execution_count": 20,
   "id": "2862cbad",
   "metadata": {},
   "outputs": [
    {
     "name": "stdout",
     "output_type": "stream",
     "text": [
      "True True True\n",
      "True\n",
      "False\n"
     ]
    }
   ],
   "source": [
    "a = 18\n",
    "x = (a > 0) and (a % 2 == 0)\n",
    "print((a > 0), (a % 2 == 0), x)\n",
    "\n",
    "print((a < 0) or (a % 2 == 0))\n",
    "print((a < 0) and (a % 2 != 0))"
   ]
  },
  {
   "cell_type": "markdown",
   "id": "c9ae1405",
   "metadata": {},
   "source": [
    "Python lets you write some logical expressions that you would reareli, if ever, find in other programming languages."
   ]
  },
  {
   "cell_type": "code",
   "execution_count": 26,
   "id": "4fb5c4cb",
   "metadata": {},
   "outputs": [
    {
     "name": "stdout",
     "output_type": "stream",
     "text": [
      "True\n",
      "True\n",
      "True\n"
     ]
    }
   ],
   "source": [
    "a = 10\n",
    "x = 5 < a < 15    # Equivalent to (a > 5) and (a < 15)\n",
    "print(x)\n",
    "\n",
    "y = 5 <= a <= 10  # Equivalent to (a >= 5) and (a <= 15)\n",
    "print(y)\n",
    "\n",
    "z = 15 > a > 5    # Equivalent to (a < 15) and (a > 5)\n",
    "print(z)"
   ]
  }
 ],
 "metadata": {
  "kernelspec": {
   "display_name": "Python 3",
   "language": "python",
   "name": "python3"
  },
  "language_info": {
   "codemirror_mode": {
    "name": "ipython",
    "version": 3
   },
   "file_extension": ".py",
   "mimetype": "text/x-python",
   "name": "python",
   "nbconvert_exporter": "python",
   "pygments_lexer": "ipython3",
   "version": "3.9.4"
  }
 },
 "nbformat": 4,
 "nbformat_minor": 5
}
