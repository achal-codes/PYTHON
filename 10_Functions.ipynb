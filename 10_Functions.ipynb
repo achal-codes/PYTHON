{
 "cells": [
  {
   "cell_type": "markdown",
   "id": "82c7a205",
   "metadata": {},
   "source": [
    "# Functions\n",
    "\n",
    "Functions help in code reuse and modularization. Once a function is written and tested, it can be used as a black box. All you need to know about the function in order to use it is its interface, which consists of:\n",
    "1. Name of the function\n",
    "1. Its input parameters\n",
    "1. Its output parameters\n",
    "1. What the function does\n",
    "\n",
    "That is, the user of the function need not know how the function does what it is supposed to be doing, the algorithm.\n",
    "\n",
    "However, the designer and implementer of the function must know how the function does what it is supposed to do. Thus, the designer of the function you must pay careful attention to designing its interface as much as to the algorithm. In addition, a good practice while designing functions is to ensure that a functionn does only only one thing, but it does it well. The definition of what that **\"one thing\"** is can be subjective. A typical approach, in procedural programming approach is to see if the task to be achieved by a function can be sub-divided into simpler tasks. If that is possible, it must be sub-divided and each sub-task must be a function by itself. This must be done with each new function that needs to be implemented and you must stop either when it is not possible to further sub-divide a function or if you feel it is not worthwhile. You will end up with a hierarchy of functions beginning with the most complex at the top and ending with the most simplest at the bottom. Once this is achieved, writing a function at any one level involves putting together the right combination and sequence of one or more lower level functions tied together with program flow control structures such as loops or branching.\n",
    "\n",
    "## Function to calculate the roots of a quadratic equation\n",
    "\n",
    "### Problem\n",
    "A quadratic equation has the following form:\n",
    "\n",
    "$$ ax^2 + bx + c = 0 $$\n",
    "\n",
    "It has two roots, $x_1$ and $x_2$, which can be either real numbers or imaginary numbers. If the discriminant $d = b^2 - 4ac$ is zero or positive, the roots are real and if it is less than zero, the roots are imaginary. Further, if the discriminant is zero, the roots are real and equal, that is $x_1 = x_2$.\n",
    "\n",
    "In case the roots are real, they are given by the equation:\n",
    "\n",
    "$$ x_1 = \\frac{-b - \\sqrt{b^2 - 4ac}}{2a};  \\qquad x_2 = \\frac{-b + \\sqrt{b^2 - 4ac}}{2a} $$\n",
    "\n",
    "In case the roots are imaginary:\n",
    "\n",
    "$$ x_1 = -\\frac{b}{2a} - i \\, \\frac{\\sqrt{b^2 - 4ac}}{2a}; \\qquad x_1 = -\\frac{b}{2a} - i \\, \\frac{\\sqrt{b^2 + 4ac}}{2a} $$\n",
    "\n",
    "### Function Interface\n",
    "**Name of the function** must reflect its purpose and must be as short as possible. In Python, names of functions are in lowercae by convention and to use underscore (**`_`**) to separate words if the name consists of multiple words. Let us choose the name of our function as **`quadratic_roots()`**. Other options could be **`roots()`** but it is too short and does not indicate roots of what. Another choice could be **`qroots()`** or **`quad_roots()`**. Let us go with **`quadratic_roots()`** even if it is a little long because it refelcts its purpose well.\n",
    "\n",
    "**Input parameters** represent the objects that are input to the function when it is called. In our case, this is dependent on the problem we are solving. Since a quadratic equation has three coefficients, the choice is straight forward. The input parameters are $a$, $b$ and $c$, the coefficients of $x^2$, $x$ (actually $x^1$) and the constant ($x^0$).\n",
    "\n",
    "**Output parameters** are the two roots of the quadratic equation, namely $x_1$ and $x_2$. They can either be real numbers or imaginary numbers. At present, we will decide not to calculate the roots if they are imaginary and instead return an error condtion. We will calculate the roots only if they are real numbers.\n",
    "\n",
    "So here is out first implementation."
   ]
  },
  {
   "cell_type": "code",
   "execution_count": 4,
   "id": "e018f80c",
   "metadata": {},
   "outputs": [
    {
     "name": "stdout",
     "output_type": "stream",
     "text": [
      "<class 'function'>\n"
     ]
    }
   ],
   "source": [
    "def quadratic_roots(a, b, c):\n",
    "    pass\n",
    "\n",
    "print(type(quadratic_roots))"
   ]
  },
  {
   "cell_type": "markdown",
   "id": "bccec563",
   "metadata": {},
   "source": [
    "Let us look at each components of the function. In fact this is syntactically correct, but it does nothing useful. You can also see that a function in Python is also an object (similar to integer or float objects), and it is of type **`function`**.\n",
    "\n",
    "**`def`** is the keyword that indicates the start of the function definition.\n",
    "\n",
    "Its name is **`quadratic_roots`** and is required so as to be able to call it later.\n",
    "\n",
    "It has three input parameters, namely, **`a`**, **`b`**, **`c`** which are enclosed between parentheses after the name of the function.\n",
    "\n",
    "**`pass`** is the keyword that allows us to define a syntactically valid but empty function.\n",
    "\n",
    "We have demonstrated that the function **`quadratic_roots`** exists.\n",
    "\n",
    "We will now add some functionality to the function. **Note:** Indentation is significant** and all lines indented by a fixed number of spaces (usually 4 spaces) with respect to the first line of the function are consider to constitute its body."
   ]
  },
  {
   "cell_type": "code",
   "execution_count": 12,
   "id": "295ec3e1",
   "metadata": {},
   "outputs": [
    {
     "name": "stdout",
     "output_type": "stream",
     "text": [
      "<class 'function'>\n"
     ]
    }
   ],
   "source": [
    "import math\n",
    "\n",
    "def quadratic_roots(a, b, c):\n",
    "    d = b**2 - (4 * a * c)  # discriminant\n",
    "    if d < 0:\n",
    "        print('Error: Roots are imaginary')\n",
    "        return None, None\n",
    "    x1 = (-b - math.sqrt(d)) / (2 * a)\n",
    "    x2 = (-b + math.sqrt(d)) / (2 * a)\n",
    "    return x1, x2\n",
    "\n",
    "print(type(quadratic_roots))"
   ]
  },
  {
   "cell_type": "markdown",
   "id": "bfb96d2e",
   "metadata": {},
   "source": [
    "We now have our function ready. The algorithm is pretty straight forward, as can be seen from the theory described above. The new thing introduced is the keyword **`return`**.\n",
    "\n",
    "The statement **`return None`** implies that if this line is executed, program control **returns** to the parent function from where this function was invoked and the value returned by this function to the parent function is the tuple with two **`None`** values. In Python **`None`** represents a **null value**.\n",
    "\n",
    "However, if the second **`return x1, x2`** statement is executed, then the function returns a **tuple containing two items** in it, the first being the value of the object **`x1`** and the second the value of the object **`x2`**.\n",
    "\n",
    "Let us see how we can call our function, send in the **input arguments** and make use of the returned values."
   ]
  },
  {
   "cell_type": "code",
   "execution_count": 17,
   "id": "f203efd8",
   "metadata": {},
   "outputs": [
    {
     "name": "stdout",
     "output_type": "stream",
     "text": [
      "<class 'tuple'> (-2.2807764064044154, -0.21922359359558485) -2.2807764064044154 -0.21922359359558485\n"
     ]
    }
   ],
   "source": [
    "a = 2\n",
    "b = 5\n",
    "c = 1\n",
    "\n",
    "r = quadratic_roots(a, b, c)\n",
    "x1, x2 = r # Unpacking tuple r\n",
    "print(type(r), r, x1, x2)"
   ]
  },
  {
   "cell_type": "markdown",
   "id": "1683dfab",
   "metadata": {},
   "source": [
    "A better way to call our function is to unpack the tuple returned by the function at the time it is called."
   ]
  },
  {
   "cell_type": "code",
   "execution_count": 18,
   "id": "4ae158d9",
   "metadata": {},
   "outputs": [
    {
     "name": "stdout",
     "output_type": "stream",
     "text": [
      "-2.2807764064044154 -0.21922359359558485\n"
     ]
    }
   ],
   "source": [
    "a = 2\n",
    "b = 5\n",
    "c = 1\n",
    "\n",
    "x1, x2 = quadratic_roots(a, b, c)\n",
    "print(x1, x2)"
   ]
  },
  {
   "cell_type": "markdown",
   "id": "7cb7b4b0",
   "metadata": {},
   "source": [
    "Let us test the other cases when the roots are real and equal and roots are imaginary and see how the function performs."
   ]
  },
  {
   "cell_type": "code",
   "execution_count": 19,
   "id": "8aa95cc3",
   "metadata": {},
   "outputs": [
    {
     "name": "stdout",
     "output_type": "stream",
     "text": [
      "-1.0 -1.0\n"
     ]
    }
   ],
   "source": [
    "a = 1\n",
    "b = 2\n",
    "c = 1\n",
    "\n",
    "x1, x2 = quadratic_roots(a, b, c)\n",
    "print(x1, x2)"
   ]
  },
  {
   "cell_type": "code",
   "execution_count": 20,
   "id": "8ce1289e",
   "metadata": {},
   "outputs": [
    {
     "name": "stdout",
     "output_type": "stream",
     "text": [
      "Error: Roots are imaginary\n",
      "None None\n"
     ]
    }
   ],
   "source": [
    "a = 5\n",
    "b = 1\n",
    "c = 2\n",
    "x1, x2 = quadratic_roots(a, b, c)\n",
    "print(x1, x2)"
   ]
  },
  {
   "cell_type": "markdown",
   "id": "0ae86944",
   "metadata": {},
   "source": [
    "We demonstrated the following aspects:\n",
    "1. Designing the interface of a function - Name, input parameters, output parameters.\n",
    "1. Using a function - catching the values returned by the function, by unpacking the returned tuple if necessary.\n",
    "1. Multiple return values depending on different conditions.\n",
    "\n",
    "Here are some important aspects that were not explicitly demonstrated:\n",
    "1. If there is no **`return`** statement in a function definition, an implicit **`return None`** is assumed after the last statement of the function.\n",
    "1. The statement **`return`** in a function is the same as **`return None`**.\n",
    "1. A function can return a single value, if it is what is required.\n",
    "1. Each value returned by a function can be of any valid Python type. Thus a function can return a bool, list, tuple, set etc. as one of the values returned in the tuple returned by a function (in case of multiple return values)."
   ]
  },
  {
   "cell_type": "markdown",
   "id": "62e83cba",
   "metadata": {},
   "source": [
    "## Default Values for Input Parameters\n",
    "\n",
    "You will have observed the following:\n",
    "1. The number of input arguments must be equal to the number of input parameters specified at the time of function definition.\n",
    "2. The value of input arguments is assigned to the input parameters in the sequence in which they appear in the function definition.\n",
    "\n",
    "Let us look at the function definition: **`def quadratic_roots(a, b, c)`** where **`a`**, **`b`** and **`c`** are the **input parameters**.\n",
    "\n",
    "Let us look at the function call: **`x1, x2 = quadratic_roots(a, b, c)`** where **`a`**, **`b`** and **`c`** are the **input arguments** and have specific values assigned to them before the function is invoked.\n",
    "\n",
    "The value of first input argument **`a`** is assigned to the first input parameter **`a`** and so on. It is only a coincidence that we have chosen the names of input parameters and input arguments the same. This is not necessary. In fact, the function call could have been **`x1, x2 = quadratic_roots(2, 5, 1)`** and it would have made no difference.\n",
    "\n",
    "It is possible to assign a default value to one or more of the input parameters. If such default value is provided at the time of function definition, and that input argument is not provided at the time the function is called, it is assumed that the input argument has the value specified at the time of function definition.\n",
    "\n",
    "However, there are some rules:\n",
    "1. Default input parameters must appear at the end of the input parameter list\n",
    "1. If there are two or more default input parameters, they must all appear at the end of the input parameter list and cannot be mixed with required input parameters.\n",
    "\n",
    "Let us look at an example."
   ]
  },
  {
   "cell_type": "code",
   "execution_count": 24,
   "id": "4bf75722",
   "metadata": {},
   "outputs": [],
   "source": [
    "def f(x, y, z=100):\n",
    "    print(x, y, z)"
   ]
  },
  {
   "cell_type": "markdown",
   "id": "635f813d",
   "metadata": {},
   "source": [
    "This is not a very useful function and is designed only to demonstrate how default parameters work. It has three input parameters, **`x`**, *`y`* and **`z`**. Two of them positiional parameters, namely **`x`** and **`y`**. They occupy the first and second position. The third **`z`** is a default parameter. This function merely prints the values of its three input parameters. It has no **`return`** statement so it returns **`None`** when it returns control to the calling function.\n",
    "\n",
    "This function can be called in two different ways:\n",
    "1. With three input arguments.\n",
    "1. With two input arguments, and the third is assumed to be **`10`**."
   ]
  },
  {
   "cell_type": "code",
   "execution_count": 25,
   "id": "17292d67",
   "metadata": {},
   "outputs": [
    {
     "name": "stdout",
     "output_type": "stream",
     "text": [
      "10 20 30\n"
     ]
    }
   ],
   "source": [
    "f(10, 20, 30) # Prints 10 20 30"
   ]
  },
  {
   "cell_type": "code",
   "execution_count": 26,
   "id": "c97f3df6",
   "metadata": {},
   "outputs": [
    {
     "name": "stdout",
     "output_type": "stream",
     "text": [
      "10 20 100\n"
     ]
    }
   ],
   "source": [
    "f(10, 20) # Third argument is assumed to be 100 since it is not provided"
   ]
  },
  {
   "cell_type": "markdown",
   "id": "c4b1969e",
   "metadata": {},
   "source": [
    "Providing only one input argument is an exception because there are two **required positional arguments** but only one is provided."
   ]
  },
  {
   "cell_type": "code",
   "execution_count": 27,
   "id": "c9091b53",
   "metadata": {},
   "outputs": [
    {
     "ename": "TypeError",
     "evalue": "f() missing 1 required positional argument: 'y'",
     "output_type": "error",
     "traceback": [
      "\u001b[1;31m---------------------------------------------------------------------------\u001b[0m",
      "\u001b[1;31mTypeError\u001b[0m                                 Traceback (most recent call last)",
      "\u001b[1;32m<ipython-input-27-442218de3cba>\u001b[0m in \u001b[0;36m<module>\u001b[1;34m\u001b[0m\n\u001b[1;32m----> 1\u001b[1;33m \u001b[0mf\u001b[0m\u001b[1;33m(\u001b[0m\u001b[1;36m10\u001b[0m\u001b[1;33m)\u001b[0m\u001b[1;33m\u001b[0m\u001b[1;33m\u001b[0m\u001b[0m\n\u001b[0m",
      "\u001b[1;31mTypeError\u001b[0m: f() missing 1 required positional argument: 'y'"
     ]
    }
   ],
   "source": [
    "f(10)"
   ]
  },
  {
   "cell_type": "markdown",
   "id": "7963d6c1",
   "metadata": {},
   "source": [
    "The same applies if there are two (or more) default parameters. Important to note that in such case, **all default parameters must appear after the required positional parameters**. The following raises an exception."
   ]
  },
  {
   "cell_type": "code",
   "execution_count": 29,
   "id": "06f2924a",
   "metadata": {},
   "outputs": [
    {
     "ename": "SyntaxError",
     "evalue": "non-default argument follows default argument (<ipython-input-29-1b611abbc5f1>, line 1)",
     "output_type": "error",
     "traceback": [
      "\u001b[1;36m  File \u001b[1;32m\"<ipython-input-29-1b611abbc5f1>\"\u001b[1;36m, line \u001b[1;32m1\u001b[0m\n\u001b[1;33m    def f(a, b=10, c):\u001b[0m\n\u001b[1;37m                    ^\u001b[0m\n\u001b[1;31mSyntaxError\u001b[0m\u001b[1;31m:\u001b[0m non-default argument follows default argument\n"
     ]
    }
   ],
   "source": [
    "def f(a, b=10, c):\n",
    "    print(a, b, c)"
   ]
  },
  {
   "cell_type": "markdown",
   "id": "5693acdd",
   "metadata": {},
   "source": [
    "This is acceptable:"
   ]
  },
  {
   "cell_type": "code",
   "execution_count": 31,
   "id": "ecb93e51",
   "metadata": {},
   "outputs": [
    {
     "name": "stdout",
     "output_type": "stream",
     "text": [
      "10 20 100 200\n",
      "10 20 30 200\n",
      "10 20 30 40\n"
     ]
    }
   ],
   "source": [
    "def f(a, b, c=100, d=200):\n",
    "    print(a, b, c, d)\n",
    "    return\n",
    "\n",
    "f(10, 20)         # Same as f(10, 20, 100, 200)\n",
    "f(10, 20, 30)     # Same as f(10, 20, 30, 200)\n",
    "f(10, 20, 30, 40)"
   ]
  },
  {
   "cell_type": "markdown",
   "id": "d53a8b24",
   "metadata": {},
   "source": [
    "## `*args` and `**kwargs`\n",
    "\n",
    "In most circumstances, it is known at the time of writing the function the exact input parameters it requires and the algorithm is designed accordingly. However, there can be situation when this is not clear. This is especially true when the function being designed in turn passes on these input parameters as input to a function that is called from inside the function being designed.\n",
    "\n",
    "Let us look at an example that is not a realistic one and the focus is more on demonstrating how this mechanism works. Let us begin with an example that only uses **`*args`**. This is useful when you want your function requires the facility to accept a variable number of input arguments (without using default input arguments).\n",
    "\n",
    "To understand the use of **`*args`**, you must understand that **`args`** is actually a tuple (and therefore immutable) and can contain a variable number of elements and each item in the tuple has an index. And **`*args`** esentially unpacks the tuple inside the function."
   ]
  },
  {
   "cell_type": "code",
   "execution_count": 34,
   "id": "b2eb6b13",
   "metadata": {},
   "outputs": [
    {
     "name": "stdout",
     "output_type": "stream",
     "text": [
      "1 2 <class 'tuple'> 3 (10, 20, 30)\n",
      "1 2 <class 'tuple'> 0 ()\n",
      "1 2 <class 'tuple'> 1 (10,)\n"
     ]
    }
   ],
   "source": [
    "def f(a, b, *args):\n",
    "    print(a, b, type(args), len(args), args)\n",
    "    return\n",
    "\n",
    "f(1, 2, 10, 20, 30)    # a=1, b=2; args = (10, 20, 3-)\n",
    "f(1, 2)      # args is empty\n",
    "f(1, 2, 10)  # args = (10,)"
   ]
  },
  {
   "cell_type": "markdown",
   "id": "3867e182",
   "metadata": {},
   "source": [
    "With this understanding of **`*args`**, we can take the next step of tackling **`**kwargs`**. "
   ]
  },
  {
   "cell_type": "code",
   "execution_count": 35,
   "id": "ef3d0fb5",
   "metadata": {},
   "outputs": [
    {
     "name": "stdout",
     "output_type": "stream",
     "text": [
      "1 2 <class 'dict'> 2 {'x': 100, 'y': 200}\n"
     ]
    }
   ],
   "source": [
    "def f(a, b, **kwargs):\n",
    "    print(a, b, type(kwargs), len(kwargs), kwargs)\n",
    "    return\n",
    "\n",
    "f(1, 2, x=100, y=200)"
   ]
  },
  {
   "cell_type": "markdown",
   "id": "876b8a4f",
   "metadata": {},
   "source": [
    "Following points must be noted:\n",
    "1. **`**kwargs`** unpacks the dictionary **`kwargs`**.\n",
    "1. **`kwargs`** is a dictionary, hence the items of the dictionary have a **key** and a corresponding **value**.\n",
    "1. A dictionary has the advantage that instead of depending on the index of the element, we can use its name (key)."
   ]
  },
  {
   "cell_type": "code",
   "execution_count": 36,
   "id": "b2891e56",
   "metadata": {},
   "outputs": [
    {
     "name": "stdout",
     "output_type": "stream",
     "text": [
      "1 2 <class 'dict'> 2 {'name': 'Vijay', 'age': 21}\n"
     ]
    }
   ],
   "source": [
    "f(1, 2, name='Vijay', age=21)"
   ]
  },
  {
   "cell_type": "markdown",
   "id": "b9a64205",
   "metadata": {},
   "source": [
    "A function can have both **`*args`** and **`**kwargs`**, and when it does, **`*args`** must follow required positional arguments and **`**kwargs`** must come last."
   ]
  },
  {
   "cell_type": "code",
   "execution_count": 38,
   "id": "cdb51160",
   "metadata": {},
   "outputs": [
    {
     "name": "stdout",
     "output_type": "stream",
     "text": [
      "1 2 3 (10, 20, 30) 2 {'x': 100, 'y': 200}\n"
     ]
    }
   ],
   "source": [
    "def f(a, b, *args, **kwargs):\n",
    "    print(a, b, len(args), args, len(kwargs), kwargs)\n",
    "    return\n",
    "\n",
    "f(1, 2, 10, 20, 30, x=100, y=200)"
   ]
  }
 ],
 "metadata": {
  "kernelspec": {
   "display_name": "Python 3",
   "language": "python",
   "name": "python3"
  },
  "language_info": {
   "codemirror_mode": {
    "name": "ipython",
    "version": 3
   },
   "file_extension": ".py",
   "mimetype": "text/x-python",
   "name": "python",
   "nbconvert_exporter": "python",
   "pygments_lexer": "ipython3",
   "version": "3.9.4"
  }
 },
 "nbformat": 4,
 "nbformat_minor": 5
}
