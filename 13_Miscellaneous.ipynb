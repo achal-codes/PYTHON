{
 "cells": [
  {
   "cell_type": "markdown",
   "id": "721b11fb",
   "metadata": {},
   "source": [
    "# Miscellaneous Topics\n",
    "\n",
    "Python is well known for the large number of packages available to do a broad range of programming. The phrase **\"batteries included\"** is used by the Python community to indicate that there is a package to do almost anything. It has very powerful built-in packages for several useful applications. A comprehensive list is available here: https://docs.python.org/3/library/index.html. Some examples are:\n",
    "1. **`re`** for **regular expression** operations. Very useful for string pattern matching, searching and replacing.\n",
    "1. **`datetime`** for date and time operations.\n",
    "1. **`itertools`** and **`functools`** for functional programming support.\n",
    "1. **`pathlib`** for an object oriented filesystem paths.\n",
    "1. **`os.path`** for comman pathname manipulations.\n",
    "1. **`zipfile`** for working with ZIP archives.\n",
    "1. **`csv`** for reading and writing CSV files.\n",
    "1. **`asyncio`** for asynchronous I/O.\n",
    "1. **`1socket`** for low-lvevel networking interface.\n",
    "1. **`email`** an email and MIME handling package.\n",
    "1. **`http.server`** for writing simple HTTP servers.\n",
    "1. **`venv`** for creating and managing virtual environments.\n",
    "1. **`abc`** abstract base classes in OO programming.\n",
    "\n",
    "In addition to the built-in packages, there are a large number of third-party packages, distributed through PyPI for a large number of application areas. Some examples include:\n",
    "\n",
    "1. **HTML Requests, Web Scraping and Web Crawling:**\n",
    "    - [requests](https://docs.python-requests.org/en/master/index.html)\n",
    "    - [ScraPy](https://scrapy.org/)\n",
    "1. **Web application frameworks:** \n",
    "    * [Django](https://www.djangoproject.com/) is a **batteries included** web app framework.\n",
    "    * [Flask](https://flask.palletsprojects.com/en/1.1.x/) is a microframework with the programmer having to add any feature required. But there are a large number of plug-ins that provide additional features.\n",
    "    * [Pyramid](https://trypyramid.com/) is a powerful framework that has good built-in features.\n",
    "    * [Sanic](https://sanicframework.org/en/) is similar to Flask with support for **asynchronous** programming.\n",
    "1. **Machine Learning and Data Science:**\n",
    "    * [NumPy](https://numpy.org/) provides powerful n-dimensional array data structure and operators and algorithms \n",
    "    * [SciPy](https://scipy.org/) provides powerful numerical computation algorithms\n",
    "    * [Pandas](https://pandas.pydata.org/) provides the panel data structure with poerful data analysis and manipulation tools\n",
    "    * [Matplotlib](https://matplotlib.org/) provides graphical plotting functions for data visualization.\n",
    "    * [scikit-learn](https://scikit-learn.org/stable/index.html) is a machine learning package for Python.\n",
    "    * [keras](https://keras.io/) is a deep learning API for Python.\n",
    "    * [PyTorch](https://pytorch.org/) is an optimized tensor library for deep learning using GPUs and CPUs.\n",
    "1. **REST API Frameworks:**\n",
    "    - [fastAPI](https://fastapi.tiangolo.com/) is a high-performance framework to build REST APIs.\n",
    "    - [hug](https://github.com/hugapi/hug) is a framework that simplifies Python API development.\n",
    "1. **Desktop GUI Frameworks:**\n",
    "    - [PyQt](https://www.riverbankcomputing.com/software/pyqt/intro/) is a framework to develop GUI applications for the desktop.\n",
    "    - [wxPython](https://www.wxpython.org/) is a cross-platform framework to develop GUI applications for the desktop."
   ]
  },
  {
   "cell_type": "markdown",
   "id": "d1097703",
   "metadata": {},
   "source": [
    "Let us see a demonstration of two simple packages to illustrate the usefulness of power of those packages.\n",
    "\n",
    "## Regular Expressions with `re`\n",
    "\n",
    "We will do the following:\n",
    "1. Define a pattern to be used for matching or searchine.\n",
    "1. Check if a given string matches the defined pattern.\n",
    "1. Split the matching string into sub-strings.\n",
    "\n",
    "Let us use the VTU University Seat Number as an example. You are aware that VTU USN is a 10 character string with the following pattern: NCCYYBBXXX where:\n",
    "1. **N** is a digit between 1 and 4, indicating the region.\n",
    "1. **CC** are two alphabets representing the college code.\n",
    "1. **YY** are two digits indication the last two digits of the year of admission. Note that the year 2000 is 00 and 1999 is 99.\n",
    "1. **BB** are two alphabets representing the branch. For example, CS is Computer Science and Engineering.\n",
    "1. **XXX*** are three digits representing the number.\n",
    "\n",
    "Given a string, we wish to verify whether it matches this pattern, and if it does, we would like to split it into the 5 components, namely, region, college code, year of admission, branch and number."
   ]
  },
  {
   "cell_type": "code",
   "execution_count": 2,
   "id": "54439920",
   "metadata": {},
   "outputs": [
    {
     "name": "stdout",
     "output_type": "stream",
     "text": [
      "<re.Match object; span=(0, 10), match='4MC19CS015'>\n",
      "['', '4', 'MC', '19', 'CS', '015', '']\n"
     ]
    }
   ],
   "source": [
    "import re\n",
    "\n",
    "re_usn = re.compile(r\"([1-4])([A-Z]{2})([0-9]{2})([A-Z]{2})([0-9]{3})\", re.I)\n",
    "\n",
    "s = \"4MC19CS015\"\n",
    "\n",
    "m = re_usn.match(s)\n",
    "print(m)\n",
    "print(re_usn.split(s))"
   ]
  },
  {
   "cell_type": "markdown",
   "id": "f2b8a8ae",
   "metadata": {},
   "source": [
    "See here for complete documentation and examples: https://docs.python.org/3/library/re.html"
   ]
  },
  {
   "cell_type": "markdown",
   "id": "f53d8943",
   "metadata": {},
   "source": [
    "## Filesystem Paths with `pathlib`\n",
    "\n",
    "Working with filesystems, paths, searching for files matching a given pattern, checking whether a given filesystem object is a file or a directory are frequently used in many programs. **`pathlib`** provides an object oriented interface to working with filesystem paths."
   ]
  },
  {
   "cell_type": "code",
   "execution_count": 13,
   "id": "bdddaedf",
   "metadata": {},
   "outputs": [
    {
     "name": "stdout",
     "output_type": "stream",
     "text": [
      "C:\\Users\\satish\\OneDrive\\Documents\\Python\\PythonCourse\n",
      "True\n",
      "False\n",
      "C:\\Users\\satish\\OneDrive\\Documents\\Python\\PythonCourse 01_introduction.ipynb\n",
      "C:\\Users\\satish\\OneDrive\\Documents\\Python\\PythonCourse 02_Data_Types.ipynb\n",
      "C:\\Users\\satish\\OneDrive\\Documents\\Python\\PythonCourse 03_Strings.ipynb\n",
      "C:\\Users\\satish\\OneDrive\\Documents\\Python\\PythonCourse 04_Input_Output.ipynb\n",
      "C:\\Users\\satish\\OneDrive\\Documents\\Python\\PythonCourse 05_Lists.ipynb\n",
      "C:\\Users\\satish\\OneDrive\\Documents\\Python\\PythonCourse 06_Tuples.ipynb\n",
      "C:\\Users\\satish\\OneDrive\\Documents\\Python\\PythonCourse 07_Dictionary.ipynb\n",
      "C:\\Users\\satish\\OneDrive\\Documents\\Python\\PythonCourse 07_Sets.ipynb\n",
      "C:\\Users\\satish\\OneDrive\\Documents\\Python\\PythonCourse 08_Boolean_Operations.ipynb\n",
      "C:\\Users\\satish\\OneDrive\\Documents\\Python\\PythonCourse 09_Program_Flow_Control.ipynb\n",
      "C:\\Users\\satish\\OneDrive\\Documents\\Python\\PythonCourse 10_Functions.ipynb\n",
      "C:\\Users\\satish\\OneDrive\\Documents\\Python\\PythonCourse 11_Packages.ipynb\n",
      "C:\\Users\\satish\\OneDrive\\Documents\\Python\\PythonCourse 12_Classes.ipynb\n",
      "C:\\Users\\satish\\OneDrive\\Documents\\Python\\PythonCourse 13_Miscellaneous.ipynb\n"
     ]
    }
   ],
   "source": [
    "from pathlib import Path\n",
    "\n",
    "p = Path('.') # . represents the current working directory\n",
    "print(p.absolute()) # This will be different for you depending on where your Notebook resides on the filesystem\n",
    "print(p.is_dir())\n",
    "print(p.is_file())\n",
    "nbfilelist = list(p.glob('*.ipynb'))\n",
    "for fpath in nbfilelist:\n",
    "    print(fpath.parent.absolute(), fpath.name)"
   ]
  },
  {
   "cell_type": "markdown",
   "id": "89095831",
   "metadata": {},
   "source": [
    "This is merely an introduction to some of the built-in capabilities Python has. It is now left to you to go forth and explore.\n",
    "\n",
    "## References\n",
    "1. Lutz, M., *Learning Python*, 5ed., O'Reilly Media, 2013.\n",
    "1. Ramalho, L., *Fluent Python*, O'Reilly Media, 2015.\n",
    "1. Downey, A.B., *Think Python*, 2ed., O'Reilly Media, 2016.\n",
    "1. Durr, C. and Vie, J., *Competitive Programming in Python*, Cambridge University Press, 2021."
   ]
  },
  {
   "cell_type": "markdown",
   "id": "18aa8eaa",
   "metadata": {},
   "source": [
    "## Web Resources\n",
    "\n",
    "1. Python home page: https://python.org\n",
    "1. Python official documentation: https://docs.python.org\n",
    "1. FreeCodeCamp https://www.freecodecamp.org/\n",
    "1. W3Schools: https://www.w3schools.com/python/default.asp\n",
    "1. TutorialsPoint: https://www.tutorialspoint.com/python/index.htm"
   ]
  }
 ],
 "metadata": {
  "kernelspec": {
   "display_name": "Python 3",
   "language": "python",
   "name": "python3"
  },
  "language_info": {
   "codemirror_mode": {
    "name": "ipython",
    "version": 3
   },
   "file_extension": ".py",
   "mimetype": "text/x-python",
   "name": "python",
   "nbconvert_exporter": "python",
   "pygments_lexer": "ipython3",
   "version": "3.9.4"
  }
 },
 "nbformat": 4,
 "nbformat_minor": 5
}
