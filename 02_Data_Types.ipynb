{
 "cells": [
  {
   "cell_type": "markdown",
   "id": "eef19880",
   "metadata": {},
   "source": [
    "# Python Data Types\n",
    "\n",
    "Data type of an object can be determined by the function **`type()`**. See the code below:"
   ]
  },
  {
   "cell_type": "code",
   "execution_count": 5,
   "id": "5a38ae14",
   "metadata": {},
   "outputs": [
    {
     "name": "stdout",
     "output_type": "stream",
     "text": [
      "<class 'int'>\n",
      "<class 'float'>\n",
      "<class 'bool'>\n",
      "<class 'str'>\n",
      "<class 'str'>\n",
      "<class 'complex'>\n"
     ]
    }
   ],
   "source": [
    "print(type(10))\n",
    "print(type(10.))\n",
    "print(type(True))\n",
    "print(type('MCE Hassan'))\n",
    "print(type(\"MCE Hassan\"))\n",
    "print(type(4+3j))"
   ]
  },
  {
   "cell_type": "markdown",
   "id": "1a37aa75",
   "metadata": {},
   "source": [
    "We could also do the same with objects:"
   ]
  },
  {
   "cell_type": "code",
   "execution_count": 7,
   "id": "765b7e2c",
   "metadata": {},
   "outputs": [
    {
     "name": "stdout",
     "output_type": "stream",
     "text": [
      "<class 'int'>\n",
      "<class 'float'>\n",
      "<class 'complex'>\n",
      "<class 'bool'>\n",
      "<class 'str'>\n"
     ]
    }
   ],
   "source": [
    "a = 10\n",
    "print(type(a))\n",
    "b = 10.\n",
    "print(type(b))\n",
    "c = 4 + 3j\n",
    "print(type(c))\n",
    "d = True\n",
    "print(type(d))\n",
    "x = 'MCE Hassan'\n",
    "print(type(x))"
   ]
  },
  {
   "cell_type": "markdown",
   "id": "76266f5e",
   "metadata": {},
   "source": [
    "A string must be enclosed with a pair of matching single quotes (**`'`**) or double quotes (**`\"`**). A string can have embedded newline character (**`\\n`**). But an easier way to write long strings is to enclose it between a pair of matching triple single quotes (**`'''`**) or a pair of matching triple double quotes (**`\"\"\"`**). Here is an example, using embedded newline characters and triple quotes."
   ]
  },
  {
   "cell_type": "code",
   "execution_count": 10,
   "id": "9d6789a9",
   "metadata": {},
   "outputs": [
    {
     "name": "stdout",
     "output_type": "stream",
     "text": [
      "This is the first line.\n",
      "This is the second line.\n",
      "\n",
      "This is the first line.\n",
      "This is the second line.\n"
     ]
    }
   ],
   "source": [
    "s1 = 'This is the first line.\\nThis is the second line.'\n",
    "print(s1)\n",
    "print()\n",
    "s2 = '''This is the first line.\n",
    "This is the second line.'''\n",
    "print(s2)"
   ]
  },
  {
   "cell_type": "markdown",
   "id": "aedb67fb",
   "metadata": {},
   "source": [
    "The point to note is that Python has built-in data types similar to other programming languages. But the data type of an object is decided automatically based on the value assigned to it. Thus, **`a`** was of type **`int`** since it was assigned an integer value and **`b`** was of type **`float`** since it was assigned a float value. It was not necessary for the programmer to specify the data type for the objects. **In fact, Python provides no means by which the programmer can specify the data type, it is decided automatically based on the value assigned to the object**.\n",
    "\n",
    "That is why Python has dynamic data types. If the object is assigned a value of a different type (as compared to its current data type) during the execution of a program, the data type of the object is automatically changed."
   ]
  },
  {
   "cell_type": "code",
   "execution_count": 12,
   "id": "b7a97708",
   "metadata": {},
   "outputs": [
    {
     "name": "stdout",
     "output_type": "stream",
     "text": [
      "<class 'float'> 10.0\n",
      "<class 'str'> MCE Hassan\n",
      "<class 'int'> 10\n"
     ]
    }
   ],
   "source": [
    "y = 10.0\n",
    "print(type(y), y)\n",
    "y = 'MCE Hassan'\n",
    "print(type(y), y)\n",
    "y = 10\n",
    "print(type(y), y)"
   ]
  },
  {
   "cell_type": "markdown",
   "id": "5ef589fb",
   "metadata": {},
   "source": [
    "In addition to the above mentioned basic data types, Python provides a rich set of data types not usually found in other programming languages. These data types inclde:\n",
    "1. **List:** A colection of items. A list is **mutable**, in that its elements can be changed at run time. Thus it is possible to modify the value of an element, insert or append an element, delete an element. They are different compared to an array in that the elements need not all be of the same type. In fact, an element of a list can itself be a list, leading to multi-dimensioned lists. The various operations that can be performed on a list are indexing, slicing, concatenation.\n",
    "2. **Tuple:** A Tuple is similar to a List in almost all aspects except for the fact that they are **immutable**, in that once defined, they cannot be changed. Thus, it is not allowed to modify an element of a Tuple, or indert, append or delete elements. Tuples are very useful as they can represent values returned by a function and other semantics.\n",
    "3. **Dictionary:** A Dictionary is collection of **key:value** pairs. \n",
    "3. **Set:** A Set is a collection of unique elements. Various set operations, such as union, intersection, addition and subraction can be performed on Sets.\n",
    "\n",
    "We will study each of the above data types individually, but here is a simple demonstration of these types."
   ]
  },
  {
   "cell_type": "code",
   "execution_count": 17,
   "id": "0d52b545",
   "metadata": {},
   "outputs": [
    {
     "name": "stdout",
     "output_type": "stream",
     "text": [
      "<class 'list'> [1, 10.5, 'MCE']\n",
      "Length of a: 3\n",
      "<class 'int'> 1\n",
      "<class 'float'> 10.5\n",
      "<class 'str'> MCE\n",
      "<class 'list'> 0\n"
     ]
    }
   ],
   "source": [
    "a = [1, 10.5, 'MCE']\n",
    "print(type(a), a)\n",
    "print('Length of a:', len(a))\n",
    "for item in a:\n",
    "    print(type(item), item)\n",
    "\n",
    "b = []\n",
    "print(type(b), len(b))"
   ]
  },
  {
   "cell_type": "code",
   "execution_count": 19,
   "id": "d5fff408",
   "metadata": {},
   "outputs": [
    {
     "name": "stdout",
     "output_type": "stream",
     "text": [
      "<class 'tuple'> (1, 10.5, 'MCE')\n",
      "Length of a: 3\n",
      "<class 'int'> 1\n",
      "<class 'float'> 10.5\n",
      "<class 'str'> MCE\n",
      "<class 'tuple'> 0\n"
     ]
    }
   ],
   "source": [
    "a = (1, 10.5, 'MCE')\n",
    "print(type(a), a)\n",
    "print('Length of a:', len(a))\n",
    "for item in a:\n",
    "    print(type(item), item)\n",
    "\n",
    "b = ()\n",
    "print(type(b), len(b))"
   ]
  },
  {
   "cell_type": "code",
   "execution_count": 20,
   "id": "8e27ef0f",
   "metadata": {},
   "outputs": [
    {
     "name": "stdout",
     "output_type": "stream",
     "text": [
      "<class 'dict'> {'college': 'MCE Hassan', 'program': 'Computer Science', 'duration': 4}\n",
      "Length of a: 3\n",
      "college <class 'str'> MCE Hassan\n",
      "program <class 'str'> Computer Science\n",
      "duration <class 'int'> 4\n",
      "<class 'dict'> 0\n"
     ]
    }
   ],
   "source": [
    "a = {'college': 'MCE Hassan', 'program': 'Computer Science', 'duration': 4}\n",
    "print(type(a), a)\n",
    "print('Length of a:', len(a))\n",
    "for key in a.keys():\n",
    "    print(key, type(a[key]), a[key])\n",
    "\n",
    "b = {}\n",
    "print(type(b), len(b))"
   ]
  },
  {
   "cell_type": "code",
   "execution_count": 24,
   "id": "45aea31f",
   "metadata": {},
   "outputs": [
    {
     "name": "stdout",
     "output_type": "stream",
     "text": [
      "<class 'set'>\n",
      "Length of a: 3\n",
      "True\n",
      "False\n"
     ]
    }
   ],
   "source": [
    "a = {10, 10.5, 'MCE'}\n",
    "print(type(a))\n",
    "print('Length of a:', len(a))\n",
    "print(10 in a)\n",
    "print(100 in a)"
   ]
  }
 ],
 "metadata": {
  "kernelspec": {
   "display_name": "Python 3",
   "language": "python",
   "name": "python3"
  },
  "language_info": {
   "codemirror_mode": {
    "name": "ipython",
    "version": 3
   },
   "file_extension": ".py",
   "mimetype": "text/x-python",
   "name": "python",
   "nbconvert_exporter": "python",
   "pygments_lexer": "ipython3",
   "version": "3.9.4"
  }
 },
 "nbformat": 4,
 "nbformat_minor": 5
}
