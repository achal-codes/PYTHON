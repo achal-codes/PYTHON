{
 "cells": [
  {
   "cell_type": "markdown",
   "id": "baab965c",
   "metadata": {},
   "source": [
    "# Python Classes\n",
    "\n",
    "This is only a cursory introduction to object oriented programmin in Python. The subject requires greater effort to completely master the topic. This is merely an introduction to how to write a **`class`** and some useful methods. As an example, we will develop a class to mimic the complex number data structure already available in Python. Attempting to replicate it can be a useful exercise.\n",
    "\n",
    "We will first define a class, its constructor and its fields. To do this, we must first understand what **`self`** is in Python object oriented programming. Let us begin blindly without any understanding of it and revisit it to review what it is."
   ]
  },
  {
   "cell_type": "code",
   "execution_count": 3,
   "id": "01788a32",
   "metadata": {},
   "outputs": [
    {
     "name": "stdout",
     "output_type": "stream",
     "text": [
      "4 2\n",
      "2 -4\n"
     ]
    }
   ],
   "source": [
    "class Complex:\n",
    "    def __init__(self, real, imag):\n",
    "        self.real = real\n",
    "        self.imag = imag\n",
    "\n",
    "a = Complex(4, 2)\n",
    "print(a.real, a.imag)\n",
    "b = Complex(2, -4)\n",
    "print(b.real, b.imag)"
   ]
  },
  {
   "cell_type": "markdown",
   "id": "bcb4dbcc",
   "metadata": {},
   "source": [
    "This is what we accomplished:\n",
    "1. Created a class named **`Complex`**, which is a new user defined type.\n",
    "1. Defined a constructor for the class, which takes in two numbers, the real and imaginary parts of the complex number and store them.\n",
    "1. Created an object named **`a`** and initalized it with **`4`** as the real part and **`2`** as the imaginary part. Then we accessed the real and imaginary parts of **`a`** and printed them out.\n",
    "1. We repeated the previous step for another object named **`b`**.\n",
    "\n",
    "This is what we wish to do:\n",
    "1. Add two complex numbers.\n",
    "1. Subtract one complex number from another.\n",
    "1. Multiply two complex numbers.\n",
    "1. Divide one complex by another.\n",
    "1. Find the _modulus_ of a complex number.\n",
    "1. Find the _argument_ of a complex number."
   ]
  },
  {
   "cell_type": "code",
   "execution_count": 9,
   "id": "32f10ff2",
   "metadata": {},
   "outputs": [
    {
     "name": "stdout",
     "output_type": "stream",
     "text": [
      "5.385164807134504 0.3805063771123649\n",
      "3.605551275463989 0.5880026035475675\n",
      "8 4\n",
      "2 0\n"
     ]
    }
   ],
   "source": [
    "import math\n",
    "\n",
    "class Complex:\n",
    "    def __init__(self, real, imag):\n",
    "        self.real = real\n",
    "        self.imag = imag\n",
    "\n",
    "    def abs(self):\n",
    "        return math.sqrt(self.real**2 + self.imag**2)\n",
    "\n",
    "    def arg(self):\n",
    "        if self.real != 0:\n",
    "            return math.atan(self.imag / self.real)\n",
    "        else:\n",
    "            return math.pi / 2\n",
    "\n",
    "    def add(self, b):\n",
    "        return Complex(self.real + b.real, self.imag + b.imag)\n",
    "\n",
    "    def subtract(self, other):\n",
    "        return Complex(self.real - b.real, self.imag - b.imag)\n",
    "\n",
    "a = Complex(5, 2)\n",
    "b = Complex(3, 2)\n",
    "\n",
    "print(a.abs(), a.arg())\n",
    "print(b.abs(), b.arg())\n",
    "c = a.add(b)      # same as a + b\n",
    "print(c.real, c.imag)\n",
    "\n",
    "d = a.subtract(b) # Same as a - b\n",
    "print(d.real, d.imag)"
   ]
  },
  {
   "cell_type": "markdown",
   "id": "2fade7c0",
   "metadata": {},
   "source": [
    "While it works, it has several drawbacks:\n",
    "1. We cannot print a Complex number with the **`print()`** function.\n",
    "1. We cannot use the **`+`** and **`-`** operators for addition and subtraction.\n",
    "\n",
    "To remedy these, we must understand the **dunder** magic functions provided by Python. The word **dunder** is a shorter way to say **double underscore**. A Python class has access to several such magic dunder methods and if you define these methods, your class magically gains certain capabilities.\n",
    "\n",
    "For example, if you provide the **`__str__()`** dunder method for your class and it returns a string representation of your class, then **`print()`** function will automatically use it to get a string representation of your class. We will implement this first."
   ]
  },
  {
   "cell_type": "code",
   "execution_count": 14,
   "id": "cef866ba",
   "metadata": {},
   "outputs": [
    {
     "name": "stdout",
     "output_type": "stream",
     "text": [
      "Complex: <5, 2> Complex: <3, 4>\n"
     ]
    }
   ],
   "source": [
    "import math\n",
    "\n",
    "class Complex:\n",
    "    def __init__(self, real, imag):\n",
    "        self.real = real\n",
    "        self.imag = imag\n",
    "\n",
    "    def __str__(self):\n",
    "        s = f\"Complex: <{self.real}, {self.imag}>\"\n",
    "        return s\n",
    "\n",
    "    def abs(self):\n",
    "        return math.sqrt(self.real**2 + self.imag**2)\n",
    "\n",
    "    def arg(self):\n",
    "        if self.real != 0:\n",
    "            return math.atan(self.imag / self.real)\n",
    "        else:\n",
    "            return math.pi / 2\n",
    "\n",
    "    def add(self, b):\n",
    "        return Complex(self.real + b.real, self.imag + b.imag)\n",
    "\n",
    "    def subtract(self, other):\n",
    "        return Complex(self.real - b.real, self.imag - b.imag)\n",
    "\n",
    "a = Complex(5, 2)\n",
    "b = Complex(3, 4)\n",
    "print(a, b)"
   ]
  },
  {
   "cell_type": "markdown",
   "id": "58154376",
   "metadata": {},
   "source": [
    "The short and incomplete list of dunder functions is given below:\n",
    "1. **`__add__(b)`**: Add **`b`** to the object\n",
    "1. **`__sub__(b)`**: Subtract **`b`** from the object\n",
    "1. **`__mul__(b)`**: Multiply object with **`b`**\n",
    "1. **`__truediv__(b)`**: Divide object by **`b`**"
   ]
  },
  {
   "cell_type": "code",
   "execution_count": 23,
   "id": "0780a0f6",
   "metadata": {},
   "outputs": [
    {
     "name": "stdout",
     "output_type": "stream",
     "text": [
      "Complex numbers: Complex: <5, 2> Complex: <3, 4>\n",
      "Absolute value: 5.385164807134504 5.0\n",
      "Argument: 0.3805063771123649 0.9272952180016122\n",
      "Sum a + b: Complex: <8, 6>\n",
      "Difference a - b: Complex: <2, -2>\n"
     ]
    }
   ],
   "source": [
    "import math\n",
    "\n",
    "class Complex:\n",
    "    def __init__(self, real, imag):\n",
    "        self.real = real\n",
    "        self.imag = imag\n",
    "\n",
    "    def __str__(self):\n",
    "        s = f\"Complex: <{self.real}, {self.imag}>\"\n",
    "        return s\n",
    "\n",
    "    def __abs__(self):\n",
    "        return math.sqrt(self.real**2 + self.imag**2)\n",
    "\n",
    "    def arg(self):\n",
    "        if self.real != 0:\n",
    "            return math.atan(self.imag / self.real)\n",
    "        else:\n",
    "            return math.pi / 2\n",
    "\n",
    "    def __add__(self, b):\n",
    "        return Complex(self.real + b.real, self.imag + b.imag)\n",
    "\n",
    "    def __sub__(self, other):\n",
    "        return Complex(self.real - b.real, self.imag - b.imag)\n",
    "\n",
    "a = Complex(5, 2)\n",
    "b = Complex(3, 4)\n",
    "print('Complex numbers:', a, b)\n",
    "print('Absolute value:', abs(a), abs(b))\n",
    "print('Argument:', a.arg(), b.arg())\n",
    "c = a + b\n",
    "print('Sum a + b:', c)\n",
    "d = a - b\n",
    "print('Difference a - b:', d)"
   ]
  },
  {
   "cell_type": "markdown",
   "id": "657e5c4f",
   "metadata": {},
   "source": [
    "## Magic Metods for Comparison\n",
    "\n",
    "See here for the complete documentation: https://docs.python.org/3/reference/datamodel.html#objects-values-and-types\n",
    "\n",
    "The dunder methods for comparison are:\n",
    "1. Less than (**`<`**): **`object.__lt__(self, other)`**\n",
    "1. Lesser than or equal to (**`<=`**): **`object.__le__(self, other)`**\n",
    "1. Equal to (**`==`**): **`object.__eq__(self, other)`**\n",
    "1. Not equal to (**`!=`**): **`object.__ne__(self, other)`**\n",
    "1. Greater than (**`>`**): **`object.__gt__(self, other)`**\n",
    "1. Greater than or equal to (**`>=`**): **`object.__ge__(self, other)`**\n",
    "\n",
    "Let us implement **`==`** and **`!=`** for our **`Complex`** class (other comparison operators may not make sense for complex numbers)."
   ]
  },
  {
   "cell_type": "code",
   "execution_count": 24,
   "id": "874a86e0",
   "metadata": {},
   "outputs": [
    {
     "name": "stdout",
     "output_type": "stream",
     "text": [
      "Complex numbers: Complex: <5, 2> Complex: <3, 4> Complex: <5, 2>\n",
      "a == b: False\n",
      "a == c: True\n",
      "a != b: True\n",
      "a != c: False\n"
     ]
    }
   ],
   "source": [
    "import math\n",
    "\n",
    "class Complex:\n",
    "    def __init__(self, real, imag):\n",
    "        self.real = real\n",
    "        self.imag = imag\n",
    "\n",
    "    def __str__(self):\n",
    "        s = f\"Complex: <{self.real}, {self.imag}>\"\n",
    "        return s\n",
    "\n",
    "    def __abs__(self):\n",
    "        return math.sqrt(self.real**2 + self.imag**2)\n",
    "\n",
    "    def arg(self):\n",
    "        if self.real != 0:\n",
    "            return math.atan(self.imag / self.real)\n",
    "        else:\n",
    "            return math.pi / 2\n",
    "\n",
    "    def __add__(self, b):\n",
    "        return Complex(self.real + b.real, self.imag + b.imag)\n",
    "\n",
    "    def __sub__(self, other):\n",
    "        return Complex(self.real - b.real, self.imag - b.imag)\n",
    "\n",
    "    def __eq__(self, b):\n",
    "        return (self.real == b.real) and (self.imag == b.imag)\n",
    "    \n",
    "    def __ne__(self, b):\n",
    "        return (self.real != b.real) or (self.imag != b.imag)\n",
    "\n",
    "a = Complex(5, 2)\n",
    "b = Complex(3, 4)\n",
    "c = Complex(5, 2)\n",
    "print('Complex numbers:', a, b, c)\n",
    "print('a == b:', a == b)\n",
    "print('a == c:', a == c)\n",
    "print('a != b:', a != b)\n",
    "print('a != c:', a != c)"
   ]
  }
 ],
 "metadata": {
  "kernelspec": {
   "display_name": "Python 3",
   "language": "python",
   "name": "python3"
  },
  "language_info": {
   "codemirror_mode": {
    "name": "ipython",
    "version": 3
   },
   "file_extension": ".py",
   "mimetype": "text/x-python",
   "name": "python",
   "nbconvert_exporter": "python",
   "pygments_lexer": "ipython3",
   "version": "3.9.4"
  }
 },
 "nbformat": 4,
 "nbformat_minor": 5
}
