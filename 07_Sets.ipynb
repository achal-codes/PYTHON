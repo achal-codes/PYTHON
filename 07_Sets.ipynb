{
 "cells": [
  {
   "cell_type": "markdown",
   "id": "14355d15",
   "metadata": {},
   "source": [
    "# Sets\n",
    "\n",
    "Sets are collections with the following characteristics:\n",
    "\n",
    "1. Items in a set are unique. The same item cannot occur multiple times in a set.\n",
    "1. Items are unordered. They are not indexed.\n",
    "1. Once a set is created, its items cannot be changed. But new items can be added.\n",
    "\n",
    "Operations that can be performed on sets are add or remove items, membership, union, intersection, difference."
   ]
  },
  {
   "cell_type": "code",
   "execution_count": 2,
   "id": "07d6c5f6",
   "metadata": {},
   "outputs": [
    {
     "name": "stdout",
     "output_type": "stream",
     "text": [
      "<class 'set'> 3 {'apple', 'banana', 'orange'}\n"
     ]
    }
   ],
   "source": [
    "s1 = {\"apple\", \"banana\", \"orange\"}\n",
    "print(type(s1), len(s1), s1)"
   ]
  },
  {
   "cell_type": "markdown",
   "id": "2bcf1b49",
   "metadata": {},
   "source": [
    "You can check if the set contains a given value."
   ]
  },
  {
   "cell_type": "code",
   "execution_count": 5,
   "id": "82b02e9d",
   "metadata": {},
   "outputs": [
    {
     "name": "stdout",
     "output_type": "stream",
     "text": [
      "True\n",
      "False\n",
      "False\n"
     ]
    }
   ],
   "source": [
    "print('apple' in s1) # Check if 'apple' is present in the set s1\n",
    "print('Apple' in s1) # Case sensitive\n",
    "print('grape' in s1)"
   ]
  },
  {
   "cell_type": "markdown",
   "id": "7f7ac7bc",
   "metadata": {},
   "source": [
    "Duplicates are not allowed. If an item occurs multiple times, only one is included in the set."
   ]
  },
  {
   "cell_type": "code",
   "execution_count": 6,
   "id": "41ad85af",
   "metadata": {},
   "outputs": [
    {
     "name": "stdout",
     "output_type": "stream",
     "text": [
      "3 {'apple', 'banana', 'orange'}\n"
     ]
    }
   ],
   "source": [
    "s2 = {\"apple\", \"banana\", \"orange\", \"apple\"}\n",
    "print(len(s2), s2)"
   ]
  },
  {
   "cell_type": "markdown",
   "id": "755abd9b",
   "metadata": {},
   "source": [
    "A set can contain items of any type."
   ]
  },
  {
   "cell_type": "code",
   "execution_count": 8,
   "id": "b089024d",
   "metadata": {},
   "outputs": [
    {
     "name": "stdout",
     "output_type": "stream",
     "text": [
      "<class 'set'> 3 {1, 'apple', 20.5}\n"
     ]
    }
   ],
   "source": [
    "s3 = {\"apple\", 1, 20.5}\n",
    "print(type(s3), len(s3), s3)"
   ]
  },
  {
   "cell_type": "markdown",
   "id": "859e68fc",
   "metadata": {},
   "source": [
    "You can loop over items in a set."
   ]
  },
  {
   "cell_type": "code",
   "execution_count": 9,
   "id": "8e04635c",
   "metadata": {},
   "outputs": [
    {
     "name": "stdout",
     "output_type": "stream",
     "text": [
      "apple\n",
      "banana\n",
      "orange\n"
     ]
    }
   ],
   "source": [
    "s4 = {\"apple\", \"banana\", \"orange\"}\n",
    "for fruit in s4:\n",
    "    print(fruit)"
   ]
  },
  {
   "cell_type": "markdown",
   "id": "086768a4",
   "metadata": {},
   "source": [
    "There are several ways in which you can add items to a set. You can add individual items with **`set.add()`** method. You can add any iterable to a set with the **`set.update()`** method."
   ]
  },
  {
   "cell_type": "code",
   "execution_count": 13,
   "id": "eeaa9404",
   "metadata": {},
   "outputs": [
    {
     "name": "stdout",
     "output_type": "stream",
     "text": [
      "{'apple', 'banana', 'orange'}\n",
      "{'apple', 'grape', 'banana', 'orange'}\n",
      "{'apple', 'cherry', 'mango', 'grape', 'orange', 'banana'}\n",
      "{'apple', 'cherry', 'mango', 'grape', 'orange', 'banana', 'watermelon'}\n"
     ]
    }
   ],
   "source": [
    "s5 = {\"apple\", \"banana\", \"orange\"}\n",
    "print(s5)\n",
    "s5.add(\"grape\")\n",
    "print(s5)\n",
    "a = [\"mango\", \"cherry\"] # Items in a list\n",
    "s5.update(a)\n",
    "print(s5)\n",
    "b = (\"watermelon\", \"apple\") # Items in a tuple. Note, \"apple\" is duplicate\n",
    "s5.update(b)\n",
    "print(s5)"
   ]
  },
  {
   "cell_type": "markdown",
   "id": "83ee1ac5",
   "metadata": {},
   "source": [
    "You can remove an item from a set with the **`set.remove()`** or **`set.discard()`** methods. If you attempt to remove an item that does not exists, **`set.remove()`** will raise an exception but **`set.discard()`** does not. All items in a set can be removed with the **`set.clear()`** method."
   ]
  },
  {
   "cell_type": "code",
   "execution_count": 18,
   "id": "8cec64d2",
   "metadata": {},
   "outputs": [
    {
     "name": "stdout",
     "output_type": "stream",
     "text": [
      "{'apple', 'grape', 'mango', 'orange', 'banana'}\n",
      "{'apple', 'grape', 'mango', 'orange'}\n",
      "{'apple', 'grape', 'orange'}\n",
      "set()\n"
     ]
    },
    {
     "ename": "KeyError",
     "evalue": "'watermelon'",
     "output_type": "error",
     "traceback": [
      "\u001b[1;31m---------------------------------------------------------------------------\u001b[0m",
      "\u001b[1;31mKeyError\u001b[0m                                  Traceback (most recent call last)",
      "\u001b[1;32m<ipython-input-18-b46a7f2b16c9>\u001b[0m in \u001b[0;36m<module>\u001b[1;34m\u001b[0m\n\u001b[0;32m      8\u001b[0m \u001b[0ms6\u001b[0m\u001b[1;33m.\u001b[0m\u001b[0mclear\u001b[0m\u001b[1;33m(\u001b[0m\u001b[1;33m)\u001b[0m\u001b[1;33m\u001b[0m\u001b[1;33m\u001b[0m\u001b[0m\n\u001b[0;32m      9\u001b[0m \u001b[0mprint\u001b[0m\u001b[1;33m(\u001b[0m\u001b[0ms6\u001b[0m\u001b[1;33m)\u001b[0m\u001b[1;33m\u001b[0m\u001b[1;33m\u001b[0m\u001b[0m\n\u001b[1;32m---> 10\u001b[1;33m \u001b[0ms6\u001b[0m\u001b[1;33m.\u001b[0m\u001b[0mremove\u001b[0m\u001b[1;33m(\u001b[0m\u001b[1;34m\"watermelon\"\u001b[0m\u001b[1;33m)\u001b[0m\u001b[1;33m\u001b[0m\u001b[1;33m\u001b[0m\u001b[0m\n\u001b[0m",
      "\u001b[1;31mKeyError\u001b[0m: 'watermelon'"
     ]
    }
   ],
   "source": [
    "s6 = {\"apple\", \"banana\", \"orange\", \"grape\", \"mango\"}\n",
    "print(s6)\n",
    "s6.remove(\"banana\")\n",
    "print(s6)\n",
    "s6.discard(\"mango\")\n",
    "print(s6)\n",
    "s6.discard(\"watermelon\")\n",
    "s6.clear()\n",
    "print(s6)\n",
    "s6.remove(\"watermelon\")"
   ]
  },
  {
   "cell_type": "markdown",
   "id": "7f18219c",
   "metadata": {},
   "source": [
    "## Set Operations\n",
    "\n",
    "Following operations can be performed on sets:\n",
    "\n",
    "1. Union: Join sets\n",
    "1. Intersection: Items present in both sets\n",
    "1. Difference: Items that are not present in both sets"
   ]
  },
  {
   "cell_type": "code",
   "execution_count": 21,
   "id": "ab899b12",
   "metadata": {},
   "outputs": [
    {
     "name": "stdout",
     "output_type": "stream",
     "text": [
      "2 {'apple', 'banana'}\n",
      "1 {'orange'}\n",
      "3 {'apple', 'banana', 'orange'}\n"
     ]
    }
   ],
   "source": [
    "s1 = {\"apple\", \"banana\"}\n",
    "s2 = {\"orange\"}\n",
    "print(len(s1), s1)\n",
    "print(len(s2), s2)\n",
    "s3 = s1.union(s2)\n",
    "print(len(s3), s3)"
   ]
  },
  {
   "cell_type": "code",
   "execution_count": 26,
   "id": "90d1c5d4",
   "metadata": {},
   "outputs": [
    {
     "name": "stdout",
     "output_type": "stream",
     "text": [
      "3 {'apple', 'banana', 'orange'}\n",
      "3 {'apple', 'grape', 'mango'}\n",
      "{'apple'}\n"
     ]
    }
   ],
   "source": [
    "s1 = {\"apple\", \"banana\", \"orange\"}\n",
    "s2 = {\"grape\", \"apple\", \"mango\"}\n",
    "print(len(s1), s1)\n",
    "print(len(s2), s2)\n",
    "s3 = s1.intersection(s2)\n",
    "print(s3)"
   ]
  },
  {
   "cell_type": "markdown",
   "id": "86c44aaa",
   "metadata": {},
   "source": [
    "You can do an intersection with update in-place."
   ]
  },
  {
   "cell_type": "code",
   "execution_count": 28,
   "id": "f40b8160",
   "metadata": {},
   "outputs": [
    {
     "name": "stdout",
     "output_type": "stream",
     "text": [
      "3 {'apple', 'banana', 'orange'}\n",
      "3 {'apple', 'grape', 'mango'}\n",
      "{'apple'}\n"
     ]
    }
   ],
   "source": [
    "s1 = {\"apple\", \"banana\", \"orange\"}\n",
    "s2 = {\"grape\", \"apple\", \"mango\"}\n",
    "print(len(s1), s1)\n",
    "print(len(s2), s2)\n",
    "s1.intersection_update(s2) # Update s1 in-place # s1 and s2 are unaffected. s3 is created new\n",
    "print(s1)"
   ]
  },
  {
   "cell_type": "markdown",
   "id": "32a1994a",
   "metadata": {},
   "source": [
    "Difference of two sets."
   ]
  },
  {
   "cell_type": "code",
   "execution_count": 34,
   "id": "21bdb591",
   "metadata": {},
   "outputs": [
    {
     "name": "stdout",
     "output_type": "stream",
     "text": [
      "{'apple', 'banana', 'orange'}\n",
      "{'apple', 'grape', 'mango'}\n",
      "{'banana', 'orange'}\n",
      "{'apple', 'banana', 'orange'}\n"
     ]
    }
   ],
   "source": [
    "s1 = {\"apple\", \"banana\", \"orange\"}\n",
    "s2 = {\"grape\", \"apple\", \"mango\"}\n",
    "print(s1)\n",
    "print(s2)\n",
    "s3 = s1.difference(s2) # Items in s1 that are not in s2\n",
    "print(s3)\n",
    "s4 = s2.difference(s1) # Items in s2 that are not in s1\n",
    "print(s1)"
   ]
  },
  {
   "cell_type": "markdown",
   "id": "b94197f5",
   "metadata": {},
   "source": [
    "Difference update."
   ]
  },
  {
   "cell_type": "code",
   "execution_count": 35,
   "id": "62e79e19",
   "metadata": {},
   "outputs": [
    {
     "name": "stdout",
     "output_type": "stream",
     "text": [
      "{'apple', 'banana', 'orange'}\n",
      "{'apple', 'grape', 'mango'}\n",
      "{'banana', 'orange'}\n"
     ]
    }
   ],
   "source": [
    "s1 = {\"apple\", \"banana\", \"orange\"}\n",
    "s2 = {\"grape\", \"apple\", \"mango\"}\n",
    "print(s1)\n",
    "print(s2)\n",
    "s1.difference_update(s2) # Update s1 to keep items in s1 that are not in s2\n",
    "print(s1)"
   ]
  },
  {
   "cell_type": "markdown",
   "id": "4d65ef27",
   "metadata": {},
   "source": [
    "Symmetric difference returns elements that are **not** present in both sets."
   ]
  },
  {
   "cell_type": "code",
   "execution_count": 30,
   "id": "c691db8e",
   "metadata": {},
   "outputs": [
    {
     "name": "stdout",
     "output_type": "stream",
     "text": [
      "{'apple', 'banana', 'orange'}\n",
      "{'apple', 'grape', 'mango'}\n",
      "{'mango', 'grape', 'orange', 'banana'}\n"
     ]
    }
   ],
   "source": [
    "s1 = {\"apple\", \"banana\", \"orange\"}\n",
    "s2 = {\"grape\", \"apple\", \"mango\"}\n",
    "print(s1)\n",
    "print(s2)\n",
    "s3 = s1.symmetric_difference(s2)\n",
    "print(s3)"
   ]
  },
  {
   "cell_type": "markdown",
   "id": "fb13f3f6",
   "metadata": {},
   "source": [
    "Symmetric difference update does not return a new set, instead it updates one of the sets."
   ]
  },
  {
   "cell_type": "code",
   "execution_count": 31,
   "id": "6731bf0e",
   "metadata": {},
   "outputs": [
    {
     "name": "stdout",
     "output_type": "stream",
     "text": [
      "{'apple', 'banana', 'orange'}\n",
      "{'apple', 'grape', 'mango'}\n",
      "{'mango', 'grape', 'orange', 'banana'}\n"
     ]
    }
   ],
   "source": [
    "s1 = {\"apple\", \"banana\", \"orange\"}\n",
    "s2 = {\"grape\", \"apple\", \"mango\"}\n",
    "print(s1)\n",
    "print(s2)\n",
    "s1.symmetric_difference_update(s2)\n",
    "print(s1)"
   ]
  },
  {
   "cell_type": "markdown",
   "id": "e687b860",
   "metadata": {},
   "source": [
    "You can check if one set is a superset (or subset) of another set."
   ]
  },
  {
   "cell_type": "code",
   "execution_count": 39,
   "id": "624b1b38",
   "metadata": {},
   "outputs": [
    {
     "name": "stdout",
     "output_type": "stream",
     "text": [
      "True\n",
      "True\n",
      "False\n",
      "False\n"
     ]
    }
   ],
   "source": [
    "s1 = {\"apple\", \"banana\", \"orange\"}\n",
    "s2 = {\"apple\", \"orange\"}\n",
    "s3 = {\"apple\", \"orange\", \"grape\"}\n",
    "print(s1.issuperset(s2))\n",
    "print(s2.issubset(s1))\n",
    "print(s1.issuperset(s3))\n",
    "print(s3.issubset(s1))"
   ]
  }
 ],
 "metadata": {
  "kernelspec": {
   "display_name": "Python 3",
   "language": "python",
   "name": "python3"
  },
  "language_info": {
   "codemirror_mode": {
    "name": "ipython",
    "version": 3
   },
   "file_extension": ".py",
   "mimetype": "text/x-python",
   "name": "python",
   "nbconvert_exporter": "python",
   "pygments_lexer": "ipython3",
   "version": "3.9.4"
  }
 },
 "nbformat": 4,
 "nbformat_minor": 5
}
