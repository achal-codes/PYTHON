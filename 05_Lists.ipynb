{
 "cells": [
  {
   "cell_type": "markdown",
   "id": "a713588f",
   "metadata": {},
   "source": [
    "# List Data Type\n",
    "\n",
    "A List is a **container** data type. It is a collection of one or more items, but can also be empty. Unlike an array, a List can contain items of different data types. A List is a linked list and not an array. Therefore, operations such as insertion and deletion of items is permitted."
   ]
  },
  {
   "cell_type": "code",
   "execution_count": 1,
   "id": "df944460",
   "metadata": {},
   "outputs": [
    {
     "name": "stdout",
     "output_type": "stream",
     "text": [
      "<class 'list'> 5 [1, 2, 3, 4, 5]\n",
      "<class 'list'> 6 [1, 2, 3, 4, 5, 10]\n",
      "<class 'list'> 7 [100, 1, 2, 3, 4, 5, 10]\n",
      "<class 'list'> 8 [100, 1, 200, 2, 3, 4, 5, 10]\n"
     ]
    }
   ],
   "source": [
    "a = [1, 2, 3, 4, 5]\n",
    "print(type(a), len(a), a)\n",
    "a.append(10)               # Append item to the end of the list\n",
    "print(type(a), len(a), a)\n",
    "a.insert(0, 100)           # Insert item at index 0, start of the list\n",
    "print(type(a), len(a), a)\n",
    "a.insert(2, 200)           # Insert item at index 2\n",
    "print(type(a), len(a), a)"
   ]
  },
  {
   "cell_type": "code",
   "execution_count": 2,
   "id": "17e00e7a",
   "metadata": {},
   "outputs": [
    {
     "name": "stdout",
     "output_type": "stream",
     "text": [
      "<class 'list'> 4 [1, 2, 3, 4]\n",
      "<class 'list'> 3 [2, 3, 4]\n",
      "<class 'list'> 0 []\n"
     ]
    }
   ],
   "source": [
    "a = [1, 2, 3, 4, 5]\n",
    "a.pop()                    # Delete the last item of the list\n",
    "print(type(a), len(a), a)\n",
    "a.pop(0)                   # Delete item at index 0\n",
    "print(type(a), len(a), a)\n",
    "a.clear()                  # Delete all items\n",
    "print(type(a), len(a), a)"
   ]
  },
  {
   "cell_type": "markdown",
   "id": "357d64f3",
   "metadata": {},
   "source": [
    "## Search a List\n",
    "\n",
    "### `list.count(x)`\n",
    "\n",
    "Count the number of times **`x`** appears in the list."
   ]
  },
  {
   "cell_type": "code",
   "execution_count": 3,
   "id": "69e20f49",
   "metadata": {},
   "outputs": [
    {
     "name": "stdout",
     "output_type": "stream",
     "text": [
      "2\n",
      "1\n",
      "0\n"
     ]
    }
   ],
   "source": [
    "a = [10, 20, 30, 40, 10]\n",
    "print(a.count(10))  # Number of times 10 appears in the list\n",
    "print(a.count(20))\n",
    "print(a.count(100))"
   ]
  },
  {
   "cell_type": "markdown",
   "id": "5a84d4b3",
   "metadata": {},
   "source": [
    "### `list.index(x)`\n",
    "\n",
    "Returns a zero based index in the list of the first appearance of the first item whose value is **`x`**. By default, it searches the entire list. To limit the search to a slice, you can use an optional start index or a start and stop index (as in the slice notation, up to but not including).\n",
    "\n",
    "If the value is not found in the list, a **`ValueError`** exception is raised."
   ]
  },
  {
   "cell_type": "code",
   "execution_count": 4,
   "id": "ef0b1009",
   "metadata": {
    "scrolled": true
   },
   "outputs": [
    {
     "name": "stdout",
     "output_type": "stream",
     "text": [
      "0\n",
      "1\n",
      "4\n",
      "4\n"
     ]
    },
    {
     "ename": "ValueError",
     "evalue": "100 is not in list",
     "output_type": "error",
     "traceback": [
      "\u001b[1;31m---------------------------------------------------------------------------\u001b[0m",
      "\u001b[1;31mValueError\u001b[0m                                Traceback (most recent call last)",
      "\u001b[1;32m<ipython-input-4-24671c722ab2>\u001b[0m in \u001b[0;36m<module>\u001b[1;34m\u001b[0m\n\u001b[0;32m      4\u001b[0m \u001b[0mprint\u001b[0m\u001b[1;33m(\u001b[0m\u001b[0ma\u001b[0m\u001b[1;33m.\u001b[0m\u001b[0mindex\u001b[0m\u001b[1;33m(\u001b[0m\u001b[1;36m10\u001b[0m\u001b[1;33m,\u001b[0m \u001b[1;36m1\u001b[0m\u001b[1;33m)\u001b[0m\u001b[1;33m)\u001b[0m\u001b[1;33m\u001b[0m\u001b[1;33m\u001b[0m\u001b[0m\n\u001b[0;32m      5\u001b[0m \u001b[0mprint\u001b[0m\u001b[1;33m(\u001b[0m\u001b[0ma\u001b[0m\u001b[1;33m.\u001b[0m\u001b[0mindex\u001b[0m\u001b[1;33m(\u001b[0m\u001b[1;36m10\u001b[0m\u001b[1;33m,\u001b[0m \u001b[1;36m1\u001b[0m\u001b[1;33m,\u001b[0m \u001b[1;36m5\u001b[0m\u001b[1;33m)\u001b[0m\u001b[1;33m)\u001b[0m\u001b[1;33m\u001b[0m\u001b[1;33m\u001b[0m\u001b[0m\n\u001b[1;32m----> 6\u001b[1;33m \u001b[0mprint\u001b[0m\u001b[1;33m(\u001b[0m\u001b[0ma\u001b[0m\u001b[1;33m.\u001b[0m\u001b[0mindex\u001b[0m\u001b[1;33m(\u001b[0m\u001b[1;36m100\u001b[0m\u001b[1;33m)\u001b[0m\u001b[1;33m)\u001b[0m\u001b[1;33m\u001b[0m\u001b[1;33m\u001b[0m\u001b[0m\n\u001b[0m",
      "\u001b[1;31mValueError\u001b[0m: 100 is not in list"
     ]
    }
   ],
   "source": [
    "a = [10, 20, 30, 40, 10]\n",
    "print(a.index(10))\n",
    "print(a.index(20))\n",
    "print(a.index(10, 1))\n",
    "print(a.index(10, 1, 5))\n",
    "print(a.index(100))"
   ]
  },
  {
   "cell_type": "markdown",
   "id": "0eb272d6",
   "metadata": {},
   "source": [
    "### `list.reverse()`\n",
    "\n",
    "Reverse the items of the list in place."
   ]
  },
  {
   "cell_type": "code",
   "execution_count": null,
   "id": "86373938",
   "metadata": {},
   "outputs": [],
   "source": [
    "a = [10, 20, 30, 40, 50]\n",
    "print(a)\n",
    "a.reverse()\n",
    "print(a)"
   ]
  },
  {
   "cell_type": "markdown",
   "id": "c39e0f78",
   "metadata": {},
   "source": [
    "### `list.sort()`\n",
    "\n",
    "Sort the items of the list in place, in ascending order. Comparison is case sensitive. Optionally, you can specify a key to modify the element before it is compared and whether to reverse the list after sorting in ascending order.\n",
    "\n",
    "The key is a function that will take in the item and return a value and the value will be used during comparison at the time of sorting. The item itself is unaffected."
   ]
  },
  {
   "cell_type": "code",
   "execution_count": null,
   "id": "1416a7a7",
   "metadata": {},
   "outputs": [],
   "source": [
    "a = ['Sun', 'Mon', 'tue', 'Wed', 'Thu', 'Fri', 'Sat']\n",
    "print(a)\n",
    "a.sort()\n",
    "print(a)\n",
    "a.sort(key=str.lower) # Convert to lowercase while comparing\n",
    "print(a)"
   ]
  },
  {
   "cell_type": "code",
   "execution_count": null,
   "id": "a96bda75",
   "metadata": {},
   "outputs": [],
   "source": [
    "b = [21, 15, 19, 30, 42]\n",
    "print(b)\n",
    "b.sort()\n",
    "print(b)\n",
    "b.sort(reverse=True)\n",
    "print(b)"
   ]
  },
  {
   "cell_type": "markdown",
   "id": "7f7f8ccb",
   "metadata": {},
   "source": [
    "## Copying a List - Shallow and Deep Copies\n",
    "\n",
    "When you assign an existing list to a new object, the new object is **only an alternate name for the existing list and not an element by element copy**. In other words, it is an **alias** for the existing list and not its copy. We can verify this by looking at the memory location where the items are stored using the **`id()`** function."
   ]
  },
  {
   "cell_type": "code",
   "execution_count": null,
   "id": "a403a52a",
   "metadata": {},
   "outputs": [],
   "source": [
    "a = [1, 2, 3, 4, 5]\n",
    "b = a # An alias, not a copy\n",
    "print(id(a), id(b))"
   ]
  },
  {
   "cell_type": "markdown",
   "id": "0d09e6f0",
   "metadata": {},
   "source": [
    "There are two ways in which you can make an element by element copy of an existing list."
   ]
  },
  {
   "cell_type": "code",
   "execution_count": null,
   "id": "b26f4d00",
   "metadata": {},
   "outputs": [],
   "source": [
    "a = [1, 2, 3, 4, 5]\n",
    "b = a        # An alias\n",
    "c = a[:]     # An element by element copy\n",
    "d = a.copy() # An element by element copy\n",
    "print(id(a), id(b), id(c), id(d))\n",
    "print(a, b, c, d)"
   ]
  },
  {
   "cell_type": "markdown",
   "id": "66111ffa",
   "metadata": {},
   "source": [
    "If an object is an alias for another object, changing one alters the other."
   ]
  },
  {
   "cell_type": "code",
   "execution_count": null,
   "id": "6fde9fa2",
   "metadata": {},
   "outputs": [],
   "source": [
    "a = [1, 2, 3, 4, 5]\n",
    "b = a\n",
    "c = a.copy()\n",
    "print(a, b, c)\n",
    "b[0] = 100 # Changing b[0] changes a[0], but not c[0]\n",
    "print(a, b, c)\n",
    "c[0] = 200 # CHanging c[0] does not affect a or b\n",
    "print(a, b, c)"
   ]
  },
  {
   "cell_type": "markdown",
   "id": "61b24d18",
   "metadata": {},
   "source": [
    "## Indexing and Slicing\n",
    "\n",
    "Indexing and slicing works in a way identical to that with strings."
   ]
  },
  {
   "cell_type": "code",
   "execution_count": null,
   "id": "bb5734f7",
   "metadata": {},
   "outputs": [],
   "source": [
    "a = [0, 10, 20, 30, 40, 50, 60, 70, 80, 90]\n",
    "print(a)\n",
    "print(a[0], a[1], a[2], a[3], a[4])\n",
    "print(a[1:4]) # Indices 1, 2, 3 (up to but not including 4)\n",
    "print(a[::2]) # Indices 0, 2, 4, 6, 8"
   ]
  },
  {
   "cell_type": "code",
   "execution_count": null,
   "id": "a3c29b48",
   "metadata": {},
   "outputs": [],
   "source": [
    "a = [0, 10, 20, 30, 40, 50, 60, 70, 80, 90]\n",
    "print(a[-1], a[-2], a[-3], a[-4], a[-5]) # Indices right to left: 1, 2, 3, 4, 5\n",
    "print(a[-1:-6:-1]) # Indices from right to left: 1, 2, 3, 4, 5\n",
    "print(a[::-1])     # Reverse the list using decrement"
   ]
  },
  {
   "cell_type": "code",
   "execution_count": null,
   "id": "e4fa677a",
   "metadata": {},
   "outputs": [],
   "source": [
    "a = [0, 1, 2, 3, 4, 5]\n",
    "print(a[3:1])    # Invalid range. Cannot go from 3 to 2 with an increment\n",
    "print(a[3:1:-1]) # Range is 3, 2"
   ]
  },
  {
   "cell_type": "markdown",
   "id": "eb63ca39",
   "metadata": {},
   "source": [
    "## List within a List\n",
    "\n",
    "An item in a list can itself be a list"
   ]
  },
  {
   "cell_type": "code",
   "execution_count": null,
   "id": "bc529310",
   "metadata": {},
   "outputs": [],
   "source": [
    "a = [1, 2, [10, 20], 4, 5]\n",
    "print(len(a))\n",
    "for item in a:\n",
    "    print(type(item), item)\n",
    "print(a[2], a[2][0], a[2][1]) # Access items from a[2]"
   ]
  },
  {
   "cell_type": "markdown",
   "id": "75b5a8a4",
   "metadata": {},
   "source": [
    "We can define a two-dimensioned array like structure as follows. Note that lists need not have the same number of items in each row. Also, the items need not all be of the same type."
   ]
  },
  {
   "cell_type": "code",
   "execution_count": null,
   "id": "4cb8458c",
   "metadata": {},
   "outputs": [],
   "source": [
    "a = [ [1, 2, 3, 4, 5], [6, 7, 8, 9, 10] ]\n",
    "print(a)\n",
    "print(a[0][0], a[0][1], a[0][2], a[0][3], a[0][4])"
   ]
  },
  {
   "cell_type": "markdown",
   "id": "6d4e7c32",
   "metadata": {},
   "source": [
    "## `range()`\n",
    "\n",
    "To create lists automatically instead of writing out by hand, we can use the **`range()`** function. One thing to note is that **`range()`** returns a **generator** and not a list. We will learn about **generators** a little bit later, at this point of time, you can think of a generator as something that can generate the items of a list one at a time instead of creating the entire list all at once.\n",
    "\n",
    "We can easily demand that a generator be used to create a list with the **`list()`** function."
   ]
  },
  {
   "cell_type": "code",
   "execution_count": null,
   "id": "a9fa9e62",
   "metadata": {},
   "outputs": [],
   "source": [
    "a = list(range(10))     # From 0 up to but not including 10 at an increment of 1\n",
    "print(a)\n",
    "b = list(range(1, 11)) # From 1 up to but not including 11 at an increment of 1\n",
    "print(b)\n",
    "c = list(range(1, 11, 2))  # From 1 up to but not including 12 at an increment of 2\n",
    "print(c)"
   ]
  },
  {
   "cell_type": "markdown",
   "id": "cfb9ea4f",
   "metadata": {},
   "source": [
    "You can give a decrement to **`range()`**, but remember to specify teh start and stop indices when giving a decrement."
   ]
  },
  {
   "cell_type": "code",
   "execution_count": null,
   "id": "970fd2de",
   "metadata": {},
   "outputs": [],
   "source": [
    "a = list(range(10, 0, -1))  # Start 10, stop 0 (up to but not including 0), decrement 1, sequence 10, 9, ..., 3, 2, 1\n",
    "print(a)\n",
    "b = list(range(10, -1, -2)) # Start 10, stop -2 (up to but not including -2), decrement -2. Sequence 10, 8, 6, 4, 2, 0\n",
    "print(b)"
   ]
  },
  {
   "cell_type": "markdown",
   "id": "576f1c58",
   "metadata": {},
   "source": [
    "You can use **`range()`** to create large lists easily."
   ]
  },
  {
   "cell_type": "code",
   "execution_count": null,
   "id": "e050dcb2",
   "metadata": {},
   "outputs": [],
   "source": [
    "a = [list(range(1, 6)), list(range(6, 11)), list(range(11, 16))]\n",
    "print(a)"
   ]
  },
  {
   "cell_type": "markdown",
   "id": "178d9e60",
   "metadata": {},
   "source": [
    "The **`range()`** function can only generate a sequnce of integers, that is, the start, stop and increment or decrement can only by integers. Following are invalid."
   ]
  },
  {
   "cell_type": "code",
   "execution_count": null,
   "id": "af0097f1",
   "metadata": {},
   "outputs": [],
   "source": [
    "a = range(1, 5.0) # Exception TypeError"
   ]
  },
  {
   "cell_type": "code",
   "execution_count": null,
   "id": "189cf253",
   "metadata": {},
   "outputs": [],
   "source": [
    "b = range(1, 5, 0.5) # Exception TypeError"
   ]
  },
  {
   "cell_type": "markdown",
   "id": "ff49a2fa",
   "metadata": {},
   "source": [
    "## List Comprehension\n",
    "\n",
    "List comprehension is a way to create a list based on more complex reasoning compared to **`range()`**, which can only generate a sequence of integers."
   ]
  },
  {
   "cell_type": "code",
   "execution_count": null,
   "id": "d449b7d2",
   "metadata": {},
   "outputs": [],
   "source": [
    "a = [x for x in range(10)] # Create a list using range()\n",
    "print(type(a), a)"
   ]
  },
  {
   "cell_type": "code",
   "execution_count": null,
   "id": "b3c4fb34",
   "metadata": {},
   "outputs": [],
   "source": [
    "a = [x**2 for x in range(10)]\n",
    "print(type(a), a)"
   ]
  },
  {
   "cell_type": "code",
   "execution_count": null,
   "id": "db868aad",
   "metadata": {},
   "outputs": [],
   "source": [
    "a = [x**2 for x in range(10) if x % 2 == 0] # Select x only if it is divisible by 2\n",
    "print(a)"
   ]
  },
  {
   "cell_type": "code",
   "execution_count": null,
   "id": "a5572a12",
   "metadata": {},
   "outputs": [],
   "source": [
    "a = [x*2 for x in [1.5, 2.8, -3.5]] # Multiply each item in the given list with 2\n",
    "print(a)"
   ]
  },
  {
   "cell_type": "markdown",
   "id": "de0ab205",
   "metadata": {},
   "source": [
    "## Unpacking a List\n",
    "\n",
    "You can unpack a list to new objects"
   ]
  },
  {
   "cell_type": "code",
   "execution_count": null,
   "id": "3cc39349",
   "metadata": {},
   "outputs": [],
   "source": [
    "a = [10, 20]\n",
    "x, y = a\n",
    "print(a, x, y)"
   ]
  },
  {
   "cell_type": "code",
   "execution_count": null,
   "id": "b7a3d0e8",
   "metadata": {},
   "outputs": [],
   "source": [
    "a = [10, 20, 30, 40, 50]\n",
    "x, y = a # Exception. Insufficient objects on the left hand side"
   ]
  },
  {
   "cell_type": "code",
   "execution_count": 5,
   "id": "cb74b0df",
   "metadata": {},
   "outputs": [
    {
     "name": "stdout",
     "output_type": "stream",
     "text": [
      "[10, 20, 30, 40, 50] 10 [20, 30, 40, 50]\n"
     ]
    }
   ],
   "source": [
    "a = [10, 20, 30, 40, 50]\n",
    "[x, *y] = a\n",
    "print(a, x, y)"
   ]
  },
  {
   "cell_type": "code",
   "execution_count": 6,
   "id": "069f8239",
   "metadata": {},
   "outputs": [
    {
     "name": "stdout",
     "output_type": "stream",
     "text": [
      "[10, 20, 30, 40, 50] 10 [20, 30, 40] 50\n"
     ]
    }
   ],
   "source": [
    "a = [10, 20, 30, 40, 50]\n",
    "[x, *y, z] = a\n",
    "print(a, x, y, z)"
   ]
  },
  {
   "cell_type": "code",
   "execution_count": 7,
   "id": "ac700e8b",
   "metadata": {},
   "outputs": [
    {
     "name": "stdout",
     "output_type": "stream",
     "text": [
      "[10, 20, 30, 40, 50] 10 [20, 30] 40 50\n"
     ]
    }
   ],
   "source": [
    "a = [10, 20, 30, 40, 50]\n",
    "[x, *y, z1, z2] = a\n",
    "print(a, x, y, z1, z2)"
   ]
  }
 ],
 "metadata": {
  "kernelspec": {
   "display_name": "Python 3",
   "language": "python",
   "name": "python3"
  },
  "language_info": {
   "codemirror_mode": {
    "name": "ipython",
    "version": 3
   },
   "file_extension": ".py",
   "mimetype": "text/x-python",
   "name": "python",
   "nbconvert_exporter": "python",
   "pygments_lexer": "ipython3",
   "version": "3.9.4"
  }
 },
 "nbformat": 4,
 "nbformat_minor": 5
}
