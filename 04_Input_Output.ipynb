{
 "cells": [
  {
   "cell_type": "markdown",
   "id": "05e78124",
   "metadata": {},
   "source": [
    "# Output\n",
    "\n",
    "The **`print()`** function has the following characteristics:\n",
    "1. It prints a newline (**`\\n`**) at the end of the output.\n",
    "2. It prints a space between multiple items separated by commas.\n",
    "3. It is possible to replace the newline at the end of the output with anything the programmer chooses.\n",
    "4. It is possible to replace the default separatoe, namely the space character, with anything the programmer wishes."
   ]
  },
  {
   "cell_type": "code",
   "execution_count": 8,
   "id": "cd825744",
   "metadata": {},
   "outputs": [
    {
     "name": "stdout",
     "output_type": "stream",
     "text": [
      "10 Hassan\n",
      "10:Hassan\n",
      "10 Hassan;\n"
     ]
    }
   ],
   "source": [
    "a = 10\n",
    "b = 'Hassan'\n",
    "print(a, b)\n",
    "print(a, b, sep=\":\")\n",
    "print(a, b, end=\";\\n\")"
   ]
  },
  {
   "cell_type": "markdown",
   "id": "cdac4c34",
   "metadata": {},
   "source": [
    "## Formatted Output\n",
    "\n",
    "There are several different approaches to formatted output. The recent and preferred approach is the **`f`** string. This approach enables the programmer to use name of the object within a template string.\n",
    "\n",
    "### Using `f` Strings"
   ]
  },
  {
   "cell_type": "code",
   "execution_count": 19,
   "id": "a92a6f52",
   "metadata": {},
   "outputs": [
    {
     "name": "stdout",
     "output_type": "stream",
     "text": [
      "Square of 10 is 100\n",
      "Square of 10 is 100\n",
      "10\n",
      "   10\n",
      "00010\n"
     ]
    }
   ],
   "source": [
    "a = 10\n",
    "a2 = a**2\n",
    "print('Square of', a, 'is', a2)\n",
    "print(f\"Square of {a} is {a2}\")\n",
    "print(f\"{a}\")    # Normal\n",
    "print(f\"{a:5}\")  # Field width 5\n",
    "print(f\"{a:05}\") # With preceding zeros"
   ]
  },
  {
   "cell_type": "code",
   "execution_count": 36,
   "id": "32b5c269",
   "metadata": {},
   "outputs": [
    {
     "name": "stdout",
     "output_type": "stream",
     "text": [
      "2 / 3 = 0.6666666666666666\n",
      "2 / 3 = 0.67\n",
      "2 / 3 =     0.67\n",
      "2 / 3 = 00000.67\n",
      "2 / 3 =    +0.67\n"
     ]
    }
   ],
   "source": [
    "a = 2\n",
    "b = 3\n",
    "c = a / b\n",
    "print(f\"{a} / {b} = {c}\")        # Normal\n",
    "print(f\"{a} / {b} = {c:.2f}\")    # 2 places after the decimal point\n",
    "print(f\"{a} / {b} = {c:8.2f}\")   # Total field width 8 characters, 2 places after the decimal point\n",
    "print(f\"{a} / {b} = {c:08.2f}\")  # Empty places filled with zero\n",
    "print(f\"{a} / {b} = {c:+8.2f}\") # Print the + or minus sign always"
   ]
  },
  {
   "cell_type": "code",
   "execution_count": 33,
   "id": "2d2213f1",
   "metadata": {},
   "outputs": [
    {
     "name": "stdout",
     "output_type": "stream",
     "text": [
      "Monday|\n",
      "Monday    |\n",
      "    Monday|\n",
      "Monday@@@@|\n",
      "@@@@Monday|\n"
     ]
    }
   ],
   "source": [
    "s = \"Monday\"\n",
    "print(f\"{s}|\")\n",
    "print(f\"{s:10}|\")   # Left justified (default) in a field width of 10 characters\n",
    "print(f\"{s:>10}|\")  # Right justified in a field width of 10 characters\n",
    "print(f\"{s:@<10}|\") # Left justified in a field width of 10 characters, blanks filled with '@'\n",
    "print(f\"{s:@>10}|\") # Right justified in a field width of 10 characters, blanks filled with '@'"
   ]
  },
  {
   "cell_type": "markdown",
   "id": "1a41a827",
   "metadata": {},
   "source": [
    "### Using str.format()\n",
    "\n",
    "The format string can have placeholders, namely a pair of matching curly braces (**`{}`**), with or without an index. If the number of placeholders and number of arguments is identical, and you intend the sequence of output to be the same as the sequence of arguments (that is, first argument to be output first, and so on sequnetially). Otherwise, the placeholders must be indexed (strating with **`0`** for the first argument).\n",
    "\n",
    "Either all placeholders must be indexed or all must be empty. You cannot have a mix of indexed and unindexed placeholders."
   ]
  },
  {
   "cell_type": "code",
   "execution_count": 45,
   "id": "5831cafc",
   "metadata": {},
   "outputs": [
    {
     "name": "stdout",
     "output_type": "stream",
     "text": [
      "Price of one item is 10\n",
      "Price of one item is 10\n",
      "Price of one item is 10\n",
      "Price of one item is 10. What is the price of two items?\n"
     ]
    }
   ],
   "source": [
    "a = 10\n",
    "s = 'Price'\n",
    "print('{} of one item is {}'.format(s, a))   # Two placeholders and two arguments\n",
    "print('{0} of one item is {1}'.format(s, a)) # Explicitly numbered, 0 is the first argument and 1 is the second\n",
    "print('{1} of one item is {0}'.format(a, s)) # Same as above, but note 'a' and 's' are interchanged\n",
    "print('{0} of one item is {1}. What is the {2} of two items?'.format(s, a, s.lower()))"
   ]
  },
  {
   "cell_type": "markdown",
   "id": "c30257e1",
   "metadata": {},
   "source": [
    "## Using % ()\n",
    "\n",
    "This is similar to using the **`printf()`** string formatting used in **C**. When there is only one argument, using the enclosing parenthses is optional but they are required when there are two or more arguments."
   ]
  },
  {
   "cell_type": "code",
   "execution_count": null,
   "id": "6d71c347",
   "metadata": {},
   "outputs": [],
   "source": []
  },
  {
   "cell_type": "code",
   "execution_count": 53,
   "id": "ac86a1ef",
   "metadata": {},
   "outputs": [
    {
     "name": "stdout",
     "output_type": "stream",
     "text": [
      "Price of one item is 10\n",
      "Price of one item is   10\n",
      "10\n",
      "10\n",
      "10\n"
     ]
    }
   ],
   "source": [
    "a = 10\n",
    "s = 'Price'\n",
    "print('%s of one item is %d' % (s, a))\n",
    "print('%s of one item is %4d' % (s, a))\n",
    "print('%d' % a)\n",
    "print('%d' % (a))\n",
    "print('%d' % (a,))"
   ]
  },
  {
   "cell_type": "markdown",
   "id": "a650e16f",
   "metadata": {},
   "source": [
    "## Keyboard Input\n",
    "\n",
    "Reading data from keyboard, while not impossible, is not common in Python. It is more common to read data from files or capture input from GUIs. Therefore, this section will be short.\n",
    "\n",
    "The function to read input from the keyboard is **`input()`**, which takes an optional promt message as an argument. Everything entered from the keyboard until pressing the **`Enter`** key is read in as a string and assigned to the object on the left hand side.\n",
    "\n",
    "Note that everything is read in as a string. It is up to you to convert the input to the required data type."
   ]
  },
  {
   "cell_type": "code",
   "execution_count": 57,
   "id": "fe3629e7",
   "metadata": {},
   "outputs": [
    {
     "name": "stdout",
     "output_type": "stream",
     "text": [
      "Enter your name: Satish Annigeri\n",
      "Satish Annigeri\n",
      "Enter your age: 58\n",
      "<class 'str'> 58\n",
      "Enter your age: 58\n",
      "<class 'int'> 58\n"
     ]
    }
   ],
   "source": [
    "s = input('Enter your name: ')\n",
    "print(s)\n",
    "age = input('Enter your age: ')\n",
    "print(type(age), age)\n",
    "age = int(input('Enter your age: '))\n",
    "print(type(age), age)"
   ]
  }
 ],
 "metadata": {
  "kernelspec": {
   "display_name": "Python 3",
   "language": "python",
   "name": "python3"
  },
  "language_info": {
   "codemirror_mode": {
    "name": "ipython",
    "version": 3
   },
   "file_extension": ".py",
   "mimetype": "text/x-python",
   "name": "python",
   "nbconvert_exporter": "python",
   "pygments_lexer": "ipython3",
   "version": "3.9.4"
  }
 },
 "nbformat": 4,
 "nbformat_minor": 5
}
