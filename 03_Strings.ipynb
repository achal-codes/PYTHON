{
 "cells": [
  {
   "cell_type": "markdown",
   "id": "298f78ac",
   "metadata": {},
   "source": [
    "# Strings\n",
    "\n",
    "Note the following:\n",
    "1. There is no character data type in Python. A single character is also a string.\n",
    "2. A string literal can be enclosed between a pair of matching single quotes **`'`**) or double quotes (**`\"`**).\n",
    "3. A long string which continues on multiple lines can be repersented by embedded newline characters (**`\\n`**) within the string or enclosing the string within a pair of matching triple quotes, single (**`'`**)) or double (**`\"`**).\n",
    "4. An embedded single quote inside a string enclosed within single quotes (or an embedded double quote enclosed within double quotes) can be written by escaping it with a backslash (**`\\`**). Alternately, to embed a single quote inside a string enclose it within double quotes, and vice versa.\n",
    "5. A string has many characteristics of the List. Many of the operations or similar."
   ]
  },
  {
   "cell_type": "code",
   "execution_count": 5,
   "id": "d8ce45cc",
   "metadata": {},
   "outputs": [
    {
     "name": "stdout",
     "output_type": "stream",
     "text": [
      "Why don't you call me?\n",
      "Why don't you call me?\n"
     ]
    }
   ],
   "source": [
    "s1 = 'Why don\\'t you call me?'\n",
    "print(s1)\n",
    "s2 = \"Why don't you call me?\" # No need to escape the single quote since string is enclosed within double quotes\n",
    "print(s2)"
   ]
  },
  {
   "cell_type": "code",
   "execution_count": 7,
   "id": "5d8e4256",
   "metadata": {},
   "outputs": [
    {
     "name": "stdout",
     "output_type": "stream",
     "text": [
      "He inquired \"How are you?\"\n",
      "He inquired \"How are you?\"\n"
     ]
    }
   ],
   "source": [
    "s1 = \"He inquired \\\"How are you?\\\"\"\n",
    "print(s1)\n",
    "s2 = 'He inquired \"How are you?\"'\n",
    "print(s2)"
   ]
  },
  {
   "cell_type": "code",
   "execution_count": 20,
   "id": "e06efc18",
   "metadata": {},
   "outputs": [
    {
     "name": "stdout",
     "output_type": "stream",
     "text": [
      "30\n",
      "T h i s\n"
     ]
    }
   ],
   "source": [
    "s = 'This is an example of a string'\n",
    "print(len(s))\n",
    "print(s[0], s[1], s[2], s[3])"
   ]
  },
  {
   "cell_type": "markdown",
   "id": "72fb3adf",
   "metadata": {},
   "source": [
    "Length of the string is returned by the function **`len()`**, which works with many other data types that are collections of many items.\n",
    "\n",
    "Indexing begins with **`0`** using a pair of matching square brackets (**`[`** and **`]`**), similar to **C**.\n",
    "\n",
    "**Slicing** is the operation of selecting multiple items from a **collection**. Thus **`s[0:8]`** selects elements starting from **`0`, up to but not including `8`**, that is indices **`0, 1, 2, 3, 4, 5, 6` and '7'** but not **`8`**."
   ]
  },
  {
   "cell_type": "code",
   "execution_count": 21,
   "id": "30a59576",
   "metadata": {},
   "outputs": [
    {
     "name": "stdout",
     "output_type": "stream",
     "text": [
      "This is \n"
     ]
    }
   ],
   "source": [
    "print(s[0:8])"
   ]
  },
  {
   "cell_type": "markdown",
   "id": "a43bd763",
   "metadata": {},
   "source": [
    "If the starting index is left out, it defaults to **`0`** (when indexing left to right, like in the case at present). Thus, **`s[:8]`** is the same as **`s[0:8]`**."
   ]
  },
  {
   "cell_type": "code",
   "execution_count": 22,
   "id": "c3deae37",
   "metadata": {},
   "outputs": [
    {
     "name": "stdout",
     "output_type": "stream",
     "text": [
      "This is \n"
     ]
    }
   ],
   "source": [
    "print(s[:8])"
   ]
  },
  {
   "cell_type": "markdown",
   "id": "b9934f2f",
   "metadata": {},
   "source": [
    "In fact, leaving out the stopping index defaults to **last**, in this case, 29. Thus **`s[20:29]`** and **`s[20:]`** are identical."
   ]
  },
  {
   "cell_type": "code",
   "execution_count": 23,
   "id": "eab6e5aa",
   "metadata": {},
   "outputs": [
    {
     "name": "stdout",
     "output_type": "stream",
     "text": [
      "f a strin\n",
      "f a string\n"
     ]
    }
   ],
   "source": [
    "print(s[20:29])\n",
    "print(s[20:])"
   ]
  },
  {
   "cell_type": "markdown",
   "id": "b718f1bd",
   "metadata": {},
   "source": [
    "If both the starting and ending indices are left out, it defaults to **first** to **last**, in this case, **`0`** to **`29`** and is essentially the same as **`s`**, but we will see the subtle implication of this later when we study Lists. "
   ]
  },
  {
   "cell_type": "code",
   "execution_count": 25,
   "id": "29d8c05c",
   "metadata": {},
   "outputs": [
    {
     "name": "stdout",
     "output_type": "stream",
     "text": [
      "This is an example of a string\n",
      "This is an example of a string\n"
     ]
    }
   ],
   "source": [
    "print(s[:])\n",
    "print(s)"
   ]
  },
  {
   "cell_type": "markdown",
   "id": "826adfb9",
   "metadata": {},
   "source": [
    "## Indexing Right to Left\n",
    "\n",
    "In Python, you can count indices not only from left to right (forward) but also from right to left (reverse). This is quite unique among programming languages.\n",
    "\n",
    "A negative index implies counting the index from right to left and the negative index begins with **`-1`**. Thus, **`s[-1]`** is the last element of **`s`**. It is also possible to perform slicing from right to left."
   ]
  },
  {
   "cell_type": "code",
   "execution_count": 28,
   "id": "b941a56c",
   "metadata": {},
   "outputs": [
    {
     "name": "stdout",
     "output_type": "stream",
     "text": [
      "g\n",
      "rin\n",
      "ring\n"
     ]
    }
   ],
   "source": [
    "print(s[-1])\n",
    "print(s[-4:-1])\n",
    "print(s[-4:])"
   ]
  },
  {
   "cell_type": "markdown",
   "id": "50d1bebc",
   "metadata": {},
   "source": [
    "## Slicing with Increment other than 1\n",
    "\n",
    "When we say **`s[0:8]`**, the increment is assumed to be **`1`** and therefore the sequence generated is **`0, 1, 2, 3, 4, 5, 6, 7`**. However, the increment can be an integer other than **`1`**. Thus **`s[0:8:2]`** generates the sequence **`0, 2, 4, 6`** (because **`8`** is not included)."
   ]
  },
  {
   "cell_type": "code",
   "execution_count": 31,
   "id": "31dca58e",
   "metadata": {},
   "outputs": [
    {
     "name": "stdout",
     "output_type": "stream",
     "text": [
      "Ti s\n",
      "Ti sa xml fasrn\n",
      "Tssnxp  si\n"
     ]
    }
   ],
   "source": [
    "print(s[0:8:2])\n",
    "print(s[::2]) # Prints characters at all even indices. Start and stop default to 0 and 29\n",
    "print(s[::3]) # Prints characters at indices 0, 3, 6, ..., 27."
   ]
  },
  {
   "cell_type": "markdown",
   "id": "f13cfebe",
   "metadata": {},
   "source": [
    "## Slicing with Decrement\n",
    "\n",
    "Slicing can be done with a decrement instead of an increment, in both forward and reverse directions. But it can be better visualized with Lists. Here we will only illsutrate it in brief."
   ]
  },
  {
   "cell_type": "code",
   "execution_count": 34,
   "id": "b00961fc",
   "metadata": {},
   "outputs": [
    {
     "name": "stdout",
     "output_type": "stream",
     "text": [
      "This is an example of a string\n",
      " na si sihT\n",
      "gnirts a \n"
     ]
    }
   ],
   "source": [
    "print(s)\n",
    "print(s[10::-1])\n",
    "print(s[-1:-10:-1])"
   ]
  },
  {
   "cell_type": "markdown",
   "id": "93290bbc",
   "metadata": {},
   "source": [
    "## Some Important String Methods\n",
    "\n",
    "String in Python is a **class**, in the Object Oriented sense and has a number of useful **methods**. Here are a few that are commonly used."
   ]
  },
  {
   "cell_type": "code",
   "execution_count": 37,
   "id": "dc6d91d6",
   "metadata": {},
   "outputs": [
    {
     "ename": "SyntaxError",
     "evalue": "invalid syntax (<ipython-input-37-ba1528ec13a1>, line 6)",
     "output_type": "error",
     "traceback": [
      "\u001b[1;36m  File \u001b[1;32m\"<ipython-input-37-ba1528ec13a1>\"\u001b[1;36m, line \u001b[1;32m6\u001b[0m\n\u001b[1;33m    print(s.)\u001b[0m\n\u001b[1;37m            ^\u001b[0m\n\u001b[1;31mSyntaxError\u001b[0m\u001b[1;31m:\u001b[0m invalid syntax\n"
     ]
    }
   ],
   "source": [
    "s = \"Data structures and algorithms are at the heart of computer science\"\n",
    "print(s)\n",
    "print(s.lower())\n",
    "print(s.upper())\n",
    "print(s.title())\n",
    "print(s.)"
   ]
  },
  {
   "cell_type": "code",
   "execution_count": 38,
   "id": "3aeaeb06",
   "metadata": {},
   "outputs": [
    {
     "name": "stdout",
     "output_type": "stream",
     "text": [
      "['Data', 'structures', 'and', 'algorithms', 'are', 'at', 'the', 'heart', 'of', 'computer', 'science']\n"
     ]
    }
   ],
   "source": [
    "s1 = s.split()\n",
    "print(s1)"
   ]
  },
  {
   "cell_type": "code",
   "execution_count": 47,
   "id": "198ea6e2",
   "metadata": {},
   "outputs": [
    {
     "name": "stdout",
     "output_type": "stream",
     "text": [
      "Data structures and algorithms are at the heart of computer science\n",
      "Data-structures-and-algorithms-are-at-the-heart-of-computer-science\n",
      "Data_structures_and_algorithms_are_at_the_heart_of_computer_science\n"
     ]
    }
   ],
   "source": [
    "s2 = ' '.join(s1)\n",
    "print(s2)\n",
    "print('-'.join(s1)) # Join items in a list with the given string '-' as separator\n",
    "print('_'.join(s1)) # Join items in a list with the given string '_' as separator"
   ]
  },
  {
   "cell_type": "code",
   "execution_count": 46,
   "id": "966bdfa3",
   "metadata": {},
   "outputs": [
    {
     "name": "stdout",
     "output_type": "stream",
     "text": [
      "ecneics retupmoc fo traeh eht ta era smhtirogla dna serutcurts ataD\n"
     ]
    }
   ],
   "source": [
    "print(s[::-1]) # Reverse a string"
   ]
  },
  {
   "cell_type": "code",
   "execution_count": 50,
   "id": "c9a48137",
   "metadata": {},
   "outputs": [
    {
     "name": "stdout",
     "output_type": "stream",
     "text": [
      "Data structures and algorithms are at the foundation of computer science\n",
      "2021/04/29\n"
     ]
    }
   ],
   "source": [
    "print(s.replace('heart', 'foundation')) # Replace each occurrence of 'heart' with 'foundation'\n",
    "d = '2021-04-29'\n",
    "print(d.replace('-', '/')) # Replace each occurrence of '-' in d with '/'"
   ]
  },
  {
   "cell_type": "code",
   "execution_count": 60,
   "id": "948c1932",
   "metadata": {},
   "outputs": [
    {
     "name": "stdout",
     "output_type": "stream",
     "text": [
      "True\n",
      "True\n",
      "False\n",
      "True\n",
      "True\n",
      "True\n"
     ]
    }
   ],
   "source": [
    "x = '250'\n",
    "print(x.isdigit())         # True if all characters in the string are digits\n",
    "print('abc123'.isalnum())  # True if all characters in the string are alphanumeric\n",
    "print('abc-123'.isalnum()) # True if all characters in the string are alphanumeric\n",
    "print('105'.isnumeric())\n",
    "print('\\u0033'.isdecimal())# Unicode for 3\n",
    "print('Alphabets'.isalpha())"
   ]
  }
 ],
 "metadata": {
  "kernelspec": {
   "display_name": "Python 3",
   "language": "python",
   "name": "python3"
  },
  "language_info": {
   "codemirror_mode": {
    "name": "ipython",
    "version": 3
   },
   "file_extension": ".py",
   "mimetype": "text/x-python",
   "name": "python",
   "nbconvert_exporter": "python",
   "pygments_lexer": "ipython3",
   "version": "3.9.4"
  }
 },
 "nbformat": 4,
 "nbformat_minor": 5
}
