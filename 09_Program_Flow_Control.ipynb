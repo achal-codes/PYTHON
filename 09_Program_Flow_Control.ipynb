{
 "cells": [
  {
   "cell_type": "markdown",
   "id": "399f0f8a",
   "metadata": {},
   "source": [
    "# Program Flow Control\n",
    "\n",
    "Python has the following control structures\n",
    "\n",
    "1. Loops\n",
    "    - **`for`** loop\n",
    "    - **`while`** loop\n",
    "1. Branching\n",
    "    - **`if elif else`**\n",
    "\n",
    "Python does not have a **`case`** control struture but is to be introduced in Python version 3.10.\n",
    "\n",
    "**NOTE:**\n",
    "\n",
    "1. Indentation is significant in Python. All statement in a **`for`** loop or a **`while`** loop or an **`if elif else`** block by the same amount of spaces. There are no begin-end markers in Python.\n",
    "1. It is preferred that indentation is made of spaces and not tabs, because tabs are treated differently by different operating systems."
   ]
  },
  {
   "cell_type": "markdown",
   "id": "b70f2158",
   "metadata": {},
   "source": [
    "## `for` Loop\n",
    "\n",
    "We will look at the following aspects of **`for`** loops:\n",
    "\n",
    "1. Looping over items in a sequence\n",
    "1. Loop counting the index of a sequence\n",
    "1. Looping over a sequence and generating the index with **`enumerate()`** while looping\n",
    "1. Combining multiple sequence into one while looping"
   ]
  },
  {
   "cell_type": "code",
   "execution_count": 3,
   "id": "e3c215ca",
   "metadata": {},
   "outputs": [
    {
     "name": "stdout",
     "output_type": "stream",
     "text": [
      "[10, 20, 30, 40, 50]\n",
      "10\n",
      "20\n",
      "30\n",
      "40\n",
      "50\n"
     ]
    }
   ],
   "source": [
    "x = list(range(10, 51, 10))\n",
    "print(x)\n",
    "for item in x:\n",
    "    print(item)"
   ]
  },
  {
   "cell_type": "code",
   "execution_count": 5,
   "id": "2b9992c4",
   "metadata": {},
   "outputs": [
    {
     "name": "stdout",
     "output_type": "stream",
     "text": [
      "range(10, 51, 10)\n",
      "0 10\n",
      "1 20\n",
      "2 30\n",
      "3 40\n",
      "4 50\n"
     ]
    }
   ],
   "source": [
    "x = range(10, 51, 10)\n",
    "print(x)\n",
    "for i in range(5):\n",
    "    print(i, x[i])"
   ]
  },
  {
   "cell_type": "code",
   "execution_count": 8,
   "id": "c8647af3",
   "metadata": {},
   "outputs": [
    {
     "name": "stdout",
     "output_type": "stream",
     "text": [
      "range(10, 51, 10)\n",
      "0 10\n",
      "1 20\n",
      "2 30\n",
      "3 40\n",
      "4 50\n"
     ]
    }
   ],
   "source": [
    "x = range(10, 51, 10)\n",
    "print(x)\n",
    "for i, item in enumerate(x):  # i is the index, item is the corresponding item\n",
    "    print(i, item)"
   ]
  },
  {
   "cell_type": "code",
   "execution_count": 12,
   "id": "51edd96a",
   "metadata": {},
   "outputs": [
    {
     "name": "stdout",
     "output_type": "stream",
     "text": [
      "['Sun', 'Mon', 'Tue', 'Wed', 'Thu', 'Fri', 'Sat']\n",
      "[1, 2, 3, 4, 5, 6, 7]\n",
      "1 Sun\n",
      "2 Mon\n",
      "3 Tue\n",
      "4 Wed\n",
      "5 Thu\n",
      "6 Fri\n",
      "7 Sat\n"
     ]
    }
   ],
   "source": [
    "n = list(range(1, 8))\n",
    "days = ['Sun', 'Mon', 'Tue', 'Wed', 'Thu', 'Fri', 'Sat']\n",
    "print(days)\n",
    "print(n)\n",
    "\n",
    "for i, d in zip(n, days):  # Concatenate n and days and then extract one row at a time\n",
    "    print(i, d)"
   ]
  },
  {
   "cell_type": "markdown",
   "id": "c93392e4",
   "metadata": {},
   "source": [
    "To understand how **`zip()`** works, let us look at it in isolation."
   ]
  },
  {
   "cell_type": "code",
   "execution_count": 15,
   "id": "595d2a9c",
   "metadata": {},
   "outputs": [
    {
     "name": "stdout",
     "output_type": "stream",
     "text": [
      "<class 'list'> [(1, 'Sun'), (2, 'Mon'), (3, 'Tue'), (4, 'Wed'), (5, 'Thu'), (6, 'Fri'), (7, 'Sat')]\n"
     ]
    }
   ],
   "source": [
    "n = list(range(1, 8))\n",
    "days = ['Sun', 'Mon', 'Tue', 'Wed', 'Thu', 'Fri', 'Sat']\n",
    "z = list(zip(n, days))\n",
    "print(type(z), z)"
   ]
  },
  {
   "cell_type": "markdown",
   "id": "129eeb64",
   "metadata": {},
   "source": [
    "## `while` Loops"
   ]
  },
  {
   "cell_type": "code",
   "execution_count": 18,
   "id": "5a425c42",
   "metadata": {},
   "outputs": [
    {
     "name": "stdout",
     "output_type": "stream",
     "text": [
      "[10, 20, 30, 40, 50]\n",
      "10\n",
      "20\n",
      "30\n",
      "40\n",
      "50\n"
     ]
    }
   ],
   "source": [
    "x = list(range(10, 51, 10))\n",
    "print(x)\n",
    "\n",
    "i = 0\n",
    "while i < 5:\n",
    "    print(x[i])\n",
    "    i += 1"
   ]
  },
  {
   "cell_type": "code",
   "execution_count": 24,
   "id": "a03e2f51",
   "metadata": {},
   "outputs": [
    {
     "name": "stdout",
     "output_type": "stream",
     "text": [
      "[50, 40, 30, 20, 10, 0]\n",
      "50 0.02\n",
      "40 0.025\n",
      "30 0.03333333333333333\n",
      "20 0.05\n",
      "10 0.1\n",
      "0 "
     ]
    }
   ],
   "source": [
    "x = list(range(50, -1, -10))\n",
    "print(x)\n",
    "\n",
    "for i in x:\n",
    "    print(i, end=' ')\n",
    "    if i == 0:\n",
    "        continue    # Skip this iteration but continue with the loop\n",
    "    print(1 / i)"
   ]
  },
  {
   "cell_type": "code",
   "execution_count": 25,
   "id": "1aa3a505",
   "metadata": {},
   "outputs": [
    {
     "name": "stdout",
     "output_type": "stream",
     "text": [
      "[50, 40, 0, 30, 20, 10]\n",
      "50 0.02\n",
      "40 0.025\n",
      "0 "
     ]
    }
   ],
   "source": [
    "x = [50, 40, 0, 30, 20, 10]\n",
    "print(x)\n",
    "\n",
    "for i in x:\n",
    "    print(i, end=' ')\n",
    "    if i == 0:\n",
    "        break   # Break out of the loop\n",
    "    print(1 / i)"
   ]
  },
  {
   "cell_type": "markdown",
   "id": "4716e339",
   "metadata": {},
   "source": [
    "## `if elif else`\n",
    "\n",
    "Branching is done with **`if elif else`** construct, and as in other programming languages, **`elif`** and **`else`** are optional."
   ]
  },
  {
   "cell_type": "code",
   "execution_count": 1,
   "id": "68b0b32c",
   "metadata": {},
   "outputs": [
    {
     "name": "stdout",
     "output_type": "stream",
     "text": [
      "20 is positive\n"
     ]
    }
   ],
   "source": [
    "a = 20\n",
    "\n",
    "if a >= 0:\n",
    "    print(a, 'is positive')\n",
    "elif a < 0:\n",
    "    print(a, 'is negative')\n",
    "else:\n",
    "    print(a, 'is zero')"
   ]
  },
  {
   "cell_type": "markdown",
   "id": "ec69f6fa",
   "metadata": {},
   "source": [
    "To reiterate, **indentaion is significant**. If there are more lines in a block, they must all be indented by the same number of spaces to be considered as belonging to the same block.\n",
    "\n",
    "The logical expression can be a compound logical expression with **`and`** or **`or`** or **`not`**."
   ]
  }
 ],
 "metadata": {
  "kernelspec": {
   "display_name": "Python 3",
   "language": "python",
   "name": "python3"
  },
  "language_info": {
   "codemirror_mode": {
    "name": "ipython",
    "version": 3
   },
   "file_extension": ".py",
   "mimetype": "text/x-python",
   "name": "python",
   "nbconvert_exporter": "python",
   "pygments_lexer": "ipython3",
   "version": "3.9.4"
  }
 },
 "nbformat": 4,
 "nbformat_minor": 5
}
