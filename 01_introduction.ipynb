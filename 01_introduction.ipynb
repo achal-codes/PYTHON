{
 "cells": [
  {
   "cell_type": "markdown",
   "id": "274451f1",
   "metadata": {},
   "source": [
    "# Introduction to Python\n",
    "\n",
    "## Characteristics of Python\n",
    "\n",
    "Python is a programming language created by Guido van Rossum in 1991. Here are some of its characteristics:\n",
    "1. It is a high level general purpose programming language\n",
    "2. It is an interpreted language\n",
    "3. Its design philosophy emphasizes code radability\n",
    "4. It supports both procedural as well as object oriented and functional programming paradigms\n",
    "5. It is dynamically typed - data type of an object can be changed at run time, but programmer cannot specify the datat type. Data type is automatically the type of the value assigned to an object\n",
    "6. It is strongly typed - It has a data type definition\n",
    "7. It is notable for its significant indentation - Indentation is meaningful not just ornamental\n",
    "8. Single line comments begin with the`#` character\n",
    "9. Multi-line comments begin with `\"\"\"` (or `''')` and can end on the same ine or continue on multiple lines until closed by a matching `\"\"\"` (or `'''`)\n",
    "10. Strings can be delimited by either `\"` or by `'`\n",
    "11. It has garbage collection system that uses reference counting\n",
    "12. It is modular and code can be modularized into modules and packages"
   ]
  },
  {
   "cell_type": "markdown",
   "id": "cefbc2c2",
   "metadata": {},
   "source": [
    "## Working with Python\n",
    "Python code can be written and executed in several different ways:\n",
    "1. **REPL (Read Evaluate and print Loop:** It is the easiest environment to work with. Each statement can be written and executed by itself and the result of the execution seen immediately. It is best for beginners. But it does not save the written code to an external file and therefore it is not posisble to continue working at the point where you previously stopped if you exit the REPL. There are several REPL environments available for Python. Every Python installation has the REPL which is also the interpreter. There better REPLs with useful features such as **IPython**, **ptpython** and **bpython**.\n",
    "2. **IDEs with REPL:** There is also an environment called **IDLE** which has a REPL but additionally provides a code editor where code can be written and then executed in the REPL, providing the best of both worlds. Another IDE with a REPL is **Spyder** which integrates the editor with the REPL along with online help and variable inspector. It attempts to replicate the MATLAB IDE. **Visual Studio Code (VSCode)** also has an editor and a REPL can be installed as a plug-in. It is lightweight compared to Spyder and is currently very popular with Python programmers.\n",
    "3. **IDEs:** There are IDEs which do not provide the REPL but have better support for managing large projects, but some of them are non-free and therefore may not be available to all. One such IDE is **PyCharm**. Others include **Sublime Text 3**, **Eclipse** with Python plug-ins.\n",
    "4. **Browser based Environments:** Python has a unique coding environment called the **Juputer Notebook**. The software runs as a web server on your local machine and can be accessed through a browser. It allows you to create **Notebooks** which can contain Python code, output of the executed code, documentation written in the Markdown markup language which can include **LaTeX** equations and rich media."
   ]
  },
  {
   "cell_type": "markdown",
   "id": "cacd5f84",
   "metadata": {},
   "source": [
    "## Working with Jupyter Notebooks\n",
    "A Jupyter Notebook consists of a series of **cells**. A cell can be of one of the following type:\n",
    "1. **Code:** In a code cell, you can write any valid Python code and execute it. Output from the code, if any, is displayed below the cell.\n",
    "2. **Markdown:** Markdown is a simple markup language to write documents. Similar to HTML, it has a provision to structure a document in terms of headings and paragraphs, but is much simpler to learn and use than HTML. Similar to HTML, you can create hyperlinks, include images and video. It is also possible to write mathematical equations in LaTeX.\n",
    "\n",
    "A Notebook is a text file and can be submitted to version management and exchanged with others. If the recipient has a Python environment with Jupyter Notebook installed, a Jupyter Notebook can be opened, executed and modified by the recipient. When a Markdown cell is executed (Run), Markdown content is converted to HTML and displayed.\n",
    "\n",
    "Double clicking a Markdown cell reveals the Markdown markup. It can be edited and rendered to HTML by executing the Markdown cell.\n",
    "\n",
    "This Python course will consist of a series of Jupyter Notebooks, which will be made available to you in advance. And during the course, we will execute these Notebooks, modify and experiment with them."
   ]
  },
  {
   "cell_type": "code",
   "execution_count": 3,
   "id": "34167972",
   "metadata": {},
   "outputs": [
    {
     "output_type": "stream",
     "name": "stdout",
     "text": [
      "10\n"
     ]
    }
   ],
   "source": [
    "print(2 + 8)"
   ]
  },
  {
   "cell_type": "markdown",
   "id": "45c847aa",
   "metadata": {},
   "source": [
    "The cell above this cell is a **code cell** containing one expression `print(2 + 3)` which adds the two numbers `2` and `3` and the result `5` is printed below the cell. To execute the cell, you can press `Ctrl+Enter` key combination or `Shift+Enter` key combination. Both execute the code in the cell but the first key combination remains in the same cell whereas the second one moves to the cell below the current cell (a new cell is created if necessary) and the new cell is the current cell.\n",
    "\n",
    "### Edit Mode and Command Mode\n",
    "\n",
    "A Notebook has two distinct modes - The **edit mode** and the **command mode**. The mode is indicated by the colour of the left vertical edge of the current cell. **Command mode** is indicated by the **blue** colour and **Edit mode** is indicated by the **green** colour.\n",
    "\n",
    "Selecting a cell with the mouse by clicking to the left of the cell selects the cell and the blue line becomes visible.  Clicking inside a code cell enables editing of the cell contents and the left edge becomes green. Double clicking a Markdown cell enables editing of the contents of a Markdown cell and the left edge becomes green.\n",
    "\n",
    "Pressing **`Ctrl+Enter`** executes the cell and the left edge becomes blue. Pressing **`Shift+Enter`** or clicking the **Run** button on the toolbar executes the cell and the next cell becomes the current cell or a new cell is created if there is existing cell after the current cell.\n",
    "\n",
    "If a cell is selected but is not in **edit mode**, pressing the **`Enter`** key switches the cell to edit mode (green line at left). If a cell is in edit mode, pressing the **`Esc`** key switches to the command mode.\n",
    "\n",
    "There is no need to frequently save the contents of the Notebook, it is automatically save d at regular intervals. However, you can manually save and checkpoint a Notebook by pressing `Ctrl+S` or clicking **File -> Save and Checkpoint** from the main menu.\n",
    "\n",
    "You can **Rename** a Notebook by clicking on the name of the Notebook and editing the current name and saving the changes.\n",
    "\n",
    "You can add, insert, delete, merge cells using the main menu, see **Edit** and **Insert** main menu entries.\n",
    "\n",
    "When done, you can **Close and Halt** a Notebook, but it is a good idea to **Save and Checkpoint** before you do so.\n",
    "\n",
    "The **Checkpoint** feature allows you to roll back to a previous version if you so wish.\n",
    "\n",
    "## Jupyter Dashboard\n",
    "\n",
    "When you close and halt a Notebook, it is removed from the browser and you can go back to the Jupyter Dashboard which displays the list of all Notebooks. The status of each Notebook is indicated. In the dashboard, you can **Duplicate**, **Shutdown**, **View**, **Edit**, or **Delete** a Notebook by selecting it.\n",
    "\n",
    "You can create a new Notebook from the Jupyter Dashboard by clicking on **New** on the right hand top of the dashboard and choosing **Python 3** for the type of the Notebook. A new Notebook is named **Untitled** by default. The first thing to do is to change the name of the Notebook to something meaningful.\n",
    "\n",
    "By dfault, Notebooks have the extension **`.ipynb`**.\n",
    "\n",
    "## Jupyter Keyboard Shortcuts\n",
    "\n",
    "The keyboard shortcuts can be displayed by pressing the **`H`** key on the keyboard when you are in the command mode. If you are in the edit mode, remember to press the **`Esc`** key to switch to command mode.\n",
    "\n",
    "Study the list of shortcuts, the effort will pay back in terms of increased speed in working with Notebooks.\n"
   ]
  },
  {
   "cell_type": "code",
   "execution_count": 1,
   "metadata": {},
   "outputs": [
    {
     "output_type": "stream",
     "name": "stdout",
     "text": [
      "5\n"
     ]
    }
   ],
   "source": [
    "print(3+2)"
   ]
  },
  {
   "source": [
    "#Python\n",
    "#One"
   ],
   "cell_type": "markdown",
   "metadata": {}
  }
 ],
 "metadata": {
  "kernelspec": {
   "name": "python394jvsc74a57bd06aa9d016e74cb5b88820ff14f202720d292452471d59c61e48ad4380af86dc8c",
   "display_name": "Python 3.9.4 64-bit ('base': conda)"
  },
  "language_info": {
   "codemirror_mode": {
    "name": "ipython",
    "version": 3
   },
   "file_extension": ".py",
   "mimetype": "text/x-python",
   "name": "python",
   "nbconvert_exporter": "python",
   "pygments_lexer": "ipython3",
   "version": "3.9.4"
  }
 },
 "nbformat": 4,
 "nbformat_minor": 5
}