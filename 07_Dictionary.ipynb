{
 "cells": [
  {
   "cell_type": "markdown",
   "id": "b7982aed",
   "metadata": {},
   "source": [
    "# DIctionary\n",
    "\n",
    "Dictionary is a key:value data structure. Unlike a list or a tuple, the index need not be an integer, although it can be if you so wish. Index can be a string. Indexing is similar to that lists and tuples, but the index can be a string."
   ]
  },
  {
   "cell_type": "code",
   "execution_count": 53,
   "id": "9779e101",
   "metadata": {},
   "outputs": [
    {
     "name": "stdout",
     "output_type": "stream",
     "text": [
      "<class 'dict'> 3 {0: 10, 1: 20, 2: 30}\n",
      "{'college': 'MCE Hassan', 'program': 'B.E. (CSE)', 'duration': 4}\n",
      "MCE Hassan\n"
     ]
    }
   ],
   "source": [
    "d = {0: 10, 1:20, 2: 30}\n",
    "print(type(d), len(d), d)\n",
    "a = {'college': 'MCE Hassan', 'program': 'B.E. (CSE)', 'duration': 4}\n",
    "print(a)\n",
    "print(a['college'])"
   ]
  },
  {
   "cell_type": "code",
   "execution_count": 54,
   "id": "ccac501b",
   "metadata": {},
   "outputs": [
    {
     "name": "stdout",
     "output_type": "stream",
     "text": [
      "<class 'dict_keys'> dict_keys(['college', 'program', 'duration'])\n"
     ]
    }
   ],
   "source": [
    "print(type(a.keys()), a.keys())"
   ]
  },
  {
   "cell_type": "markdown",
   "id": "fb16dbb2",
   "metadata": {},
   "source": [
    "You can modify the value for an existing key."
   ]
  },
  {
   "cell_type": "code",
   "execution_count": 55,
   "id": "12501c92",
   "metadata": {},
   "outputs": [
    {
     "name": "stdout",
     "output_type": "stream",
     "text": [
      "{'college': 'MCE', 'program': 'B.E. (CSE)', 'duration': 4}\n"
     ]
    }
   ],
   "source": [
    "a['college'] = 'MCE' # Change 'MCE Hassan' to 'MCE'\n",
    "print(a)"
   ]
  },
  {
   "cell_type": "markdown",
   "id": "657cb311",
   "metadata": {},
   "source": [
    "You can insert a new key:value quite easily, simply assign a value to a non-existent key."
   ]
  },
  {
   "cell_type": "code",
   "execution_count": 56,
   "id": "9817d566",
   "metadata": {},
   "outputs": [
    {
     "name": "stdout",
     "output_type": "stream",
     "text": [
      "{'college': 'MCE', 'program': 'B.E. (CSE)', 'duration': 4, 'city': 'Hassan'} Hassan\n"
     ]
    }
   ],
   "source": [
    "a['city'] = 'Hassan'\n",
    "print(a, a['city'])"
   ]
  },
  {
   "cell_type": "markdown",
   "id": "957ef5a4",
   "metadata": {},
   "source": [
    "It is possible to access the keys in a dictionary with the **`dict.keys()`** method and the values with the **`dict.values()`** method. The items in the dictionary can be accessed as a sequence of tuples with the **`dict.items()`** method."
   ]
  },
  {
   "cell_type": "code",
   "execution_count": 57,
   "id": "a6419bc0",
   "metadata": {},
   "outputs": [
    {
     "name": "stdout",
     "output_type": "stream",
     "text": [
      "dict_keys(['college', 'program', 'duration', 'city'])\n",
      "dict_values(['MCE', 'B.E. (CSE)', 4, 'Hassan'])\n",
      "dict_items([('college', 'MCE'), ('program', 'B.E. (CSE)'), ('duration', 4), ('city', 'Hassan')])\n"
     ]
    }
   ],
   "source": [
    "print(a.keys())\n",
    "print(a.values())\n",
    "print(a.items())"
   ]
  },
  {
   "cell_type": "markdown",
   "id": "b987567f",
   "metadata": {},
   "source": [
    "You can loop over the items in a dictionary in different ways."
   ]
  },
  {
   "cell_type": "code",
   "execution_count": 59,
   "id": "1215ddec",
   "metadata": {},
   "outputs": [
    {
     "name": "stdout",
     "output_type": "stream",
     "text": [
      "college MCE\n",
      "program B.E. (CSE)\n",
      "duration 4\n",
      "city Hassan\n"
     ]
    }
   ],
   "source": [
    "for key in a:\n",
    "    print(key, a[key])"
   ]
  },
  {
   "cell_type": "markdown",
   "id": "d0b08719",
   "metadata": {},
   "source": [
    "The keys in a dictionary can also be accessed with the **`dict.keys()`** method."
   ]
  },
  {
   "cell_type": "code",
   "execution_count": 60,
   "id": "ad0e5640",
   "metadata": {},
   "outputs": [
    {
     "name": "stdout",
     "output_type": "stream",
     "text": [
      "college MCE <class 'str'>\n",
      "program B.E. (CSE) <class 'str'>\n",
      "duration 4 <class 'int'>\n",
      "city Hassan <class 'str'>\n"
     ]
    }
   ],
   "source": [
    "for key in a.keys():\n",
    "    print(key, a[key], type(a[key]))"
   ]
  },
  {
   "cell_type": "code",
   "execution_count": 47,
   "id": "76d1498e",
   "metadata": {},
   "outputs": [
    {
     "name": "stdout",
     "output_type": "stream",
     "text": [
      "college MCE\n",
      "program B.E. (CSE)\n",
      "duration 4\n",
      "city Hassan\n"
     ]
    }
   ],
   "source": [
    "for key, value in a.items():\n",
    "    print(key, value)"
   ]
  },
  {
   "cell_type": "markdown",
   "id": "84b8dbeb",
   "metadata": {},
   "source": [
    "## Modifying a Dictionary\n",
    "You can update a dictionary with another. Any new keys in the second dictionary will be added to the first. Any existing keys common to both dictionaries, the values in the first dictionary will be updated with the values from the second dictionary."
   ]
  },
  {
   "cell_type": "code",
   "execution_count": 48,
   "id": "26864992",
   "metadata": {},
   "outputs": [
    {
     "name": "stdout",
     "output_type": "stream",
     "text": [
      "{'name': 'Arun', 'age': 20} {'name': 'Arun Kumar', 'city': 'Hassan'}\n",
      "{'name': 'Arun Kumar', 'age': 20, 'city': 'Hassan'}\n"
     ]
    }
   ],
   "source": [
    "a = {'name': 'Arun', 'age': 20}\n",
    "b = {'name': 'Arun Kumar', 'city': 'Hassan'}\n",
    "print(a, b)\n",
    "a.update(b)\n",
    "print(a)"
   ]
  },
  {
   "cell_type": "markdown",
   "id": "b15fd39f",
   "metadata": {},
   "source": [
    "It is possible to check a dictionary contains a specific key with the **`in`** keyword."
   ]
  },
  {
   "cell_type": "code",
   "execution_count": 49,
   "id": "016e6d18",
   "metadata": {},
   "outputs": [
    {
     "name": "stdout",
     "output_type": "stream",
     "text": [
      "dict_keys(['name', 'age', 'city']) True True True False\n"
     ]
    }
   ],
   "source": [
    "print(a.keys(), 'name' in a, 'age' in a, 'city' in a, 'phone' in a)"
   ]
  },
  {
   "cell_type": "markdown",
   "id": "8cc89cd5",
   "metadata": {},
   "source": [
    "You can remove a key:value pair from a dictionary with the **`dict.pop()`** method."
   ]
  },
  {
   "cell_type": "code",
   "execution_count": 50,
   "id": "89d20128",
   "metadata": {},
   "outputs": [
    {
     "name": "stdout",
     "output_type": "stream",
     "text": [
      "{'name': 'Arun Kumar', 'age': 20, 'city': 'Hassan'}\n",
      "{'name': 'Arun Kumar', 'age': 20}\n"
     ]
    }
   ],
   "source": [
    "print(a)\n",
    "a.pop('city')\n",
    "print(a)"
   ]
  },
  {
   "cell_type": "markdown",
   "id": "f3d16fe2",
   "metadata": {},
   "source": [
    "All items in a dictionary can be deleted with the **`dict.clear()`** method."
   ]
  },
  {
   "cell_type": "code",
   "execution_count": 51,
   "id": "9e8a04d5",
   "metadata": {},
   "outputs": [
    {
     "name": "stdout",
     "output_type": "stream",
     "text": [
      "{'name': 'Arun Kumar', 'age': 20}\n",
      "{}\n"
     ]
    }
   ],
   "source": [
    "print(a)\n",
    "a.clear()\n",
    "print(a)"
   ]
  },
  {
   "cell_type": "markdown",
   "id": "a8166a43",
   "metadata": {},
   "source": [
    "## Copying a Dictionary\n",
    "\n",
    "Similar to lists and tuples, **`d2 = d1`** creates **`d2`** as an alias of **`d1`**. To create an element by element copy, use the **`dict.copy()`** method."
   ]
  },
  {
   "cell_type": "code",
   "execution_count": 66,
   "id": "d138099c",
   "metadata": {},
   "outputs": [
    {
     "name": "stdout",
     "output_type": "stream",
     "text": [
      "{'name': 'Arun', 'age': 20} {'name': 'Arun', 'age': 20} {'name': 'Arun', 'age': 20}\n",
      "2181544596544 2181544596544 2181544596672\n",
      "{'name': 'Arun Kumar', 'age': 20} {'name': 'Arun Kumar', 'age': 20} {'name': 'Arun', 'age': 20}\n",
      "{'name': 'Arun Kumar', 'age': 20} {'name': 'Arun Kumar', 'age': 20} {'name': 'Arun', 'age': 25}\n"
     ]
    }
   ],
   "source": [
    "d1 = {'name': 'Arun', 'age': 20}\n",
    "d2 = d1\n",
    "d3 = d1.copy()\n",
    "print(d1, d2, d3)\n",
    "print(id(d1), id(d2), id(d3))\n",
    "d2['name'] = 'Arun Kumar'\n",
    "print(d1, d2, d3)\n",
    "d3['age'] = 25\n",
    "print(d1, d2, d3)"
   ]
  },
  {
   "cell_type": "markdown",
   "id": "d999dc06",
   "metadata": {},
   "source": [
    "There are other methods that may be useful. The **`dict.get(key)`** returns the value for the given key, if the key exists otherwise it returns **`None`**. On the otherhand, attempting to access a non-existent key raises the **`KeyError`** exception."
   ]
  },
  {
   "cell_type": "code",
   "execution_count": 70,
   "id": "f3647fc8",
   "metadata": {
    "scrolled": true
   },
   "outputs": [
    {
     "name": "stdout",
     "output_type": "stream",
     "text": [
      "{'name': 'Arun Kumar', 'age': 20}\n",
      "Arun Kumar Arun Kumar\n",
      "None\n"
     ]
    },
    {
     "ename": "KeyError",
     "evalue": "'city'",
     "output_type": "error",
     "traceback": [
      "\u001b[1;31m---------------------------------------------------------------------------\u001b[0m",
      "\u001b[1;31mKeyError\u001b[0m                                  Traceback (most recent call last)",
      "\u001b[1;32m<ipython-input-70-4191aab3965b>\u001b[0m in \u001b[0;36m<module>\u001b[1;34m\u001b[0m\n\u001b[0;32m      2\u001b[0m \u001b[0mprint\u001b[0m\u001b[1;33m(\u001b[0m\u001b[0md1\u001b[0m\u001b[1;33m.\u001b[0m\u001b[0mget\u001b[0m\u001b[1;33m(\u001b[0m\u001b[1;34m'name'\u001b[0m\u001b[1;33m)\u001b[0m\u001b[1;33m,\u001b[0m \u001b[0md1\u001b[0m\u001b[1;33m[\u001b[0m\u001b[1;34m'name'\u001b[0m\u001b[1;33m]\u001b[0m\u001b[1;33m)\u001b[0m\u001b[1;33m\u001b[0m\u001b[1;33m\u001b[0m\u001b[0m\n\u001b[0;32m      3\u001b[0m \u001b[0mprint\u001b[0m\u001b[1;33m(\u001b[0m\u001b[0md1\u001b[0m\u001b[1;33m.\u001b[0m\u001b[0mget\u001b[0m\u001b[1;33m(\u001b[0m\u001b[1;34m'city'\u001b[0m\u001b[1;33m)\u001b[0m\u001b[1;33m)\u001b[0m\u001b[1;33m\u001b[0m\u001b[1;33m\u001b[0m\u001b[0m\n\u001b[1;32m----> 4\u001b[1;33m \u001b[0mprint\u001b[0m\u001b[1;33m(\u001b[0m\u001b[0md1\u001b[0m\u001b[1;33m[\u001b[0m\u001b[1;34m'city'\u001b[0m\u001b[1;33m]\u001b[0m\u001b[1;33m)\u001b[0m\u001b[1;33m\u001b[0m\u001b[1;33m\u001b[0m\u001b[0m\n\u001b[0m",
      "\u001b[1;31mKeyError\u001b[0m: 'city'"
     ]
    }
   ],
   "source": [
    "print(d1)\n",
    "print(d1.get('name'), d1['name'])\n",
    "print(d1.get('city'))  # Returns None if key does not exist\n",
    "print(d1['city'])      # Exception KeyError if key does not exist"
   ]
  },
  {
   "cell_type": "markdown",
   "id": "eb6e756e",
   "metadata": {},
   "source": [
    "Starting from version 3.7, dictionaries are ordered and therefore it was guaranteed to be able to say the last key inserted or first key etc. This was not possible in Python versions prior to 3.7. Thus, **`dict.popitem()`** method removes the last inserted key-value pair. In versiona prior to 3.7, a random key-value pair would be deleted, not necessarily the last inserted pair."
   ]
  },
  {
   "cell_type": "code",
   "execution_count": 71,
   "id": "04a7b818",
   "metadata": {},
   "outputs": [
    {
     "name": "stdout",
     "output_type": "stream",
     "text": [
      "{'name': 'Raj', 'age': 25, 'city': 'Hassan'}\n",
      "{'name': 'Raj', 'age': 25}\n"
     ]
    }
   ],
   "source": [
    "a = {'name': 'Raj', 'age': 25}\n",
    "a['city'] = 'Hassan'\n",
    "print(a)\n",
    "a.popitem()\n",
    "print(a)"
   ]
  },
  {
   "cell_type": "markdown",
   "id": "d3fdee90",
   "metadata": {},
   "source": [
    "The **`dict.setdefault(key, value)`** method does an interesting thing. If the key exists, the corresponding value is returned. If the key does not exists, the given value is inserted into the dictionary, and the inserted value is returned."
   ]
  },
  {
   "cell_type": "code",
   "execution_count": 74,
   "id": "2f3676d2",
   "metadata": {},
   "outputs": [
    {
     "name": "stdout",
     "output_type": "stream",
     "text": [
      "Raj {'name': 'Raj', 'age': 25}\n",
      "Hassan {'name': 'Raj', 'age': 25, 'city': 'Hassan'}\n"
     ]
    }
   ],
   "source": [
    "a = {'name': 'Raj', 'age': 25}\n",
    "x = a.setdefault('name')\n",
    "print(x, a)\n",
    "y = a.setdefault('city', 'Hassan')\n",
    "print(y, a)"
   ]
  }
 ],
 "metadata": {
  "kernelspec": {
   "display_name": "Python 3",
   "language": "python",
   "name": "python3"
  },
  "language_info": {
   "codemirror_mode": {
    "name": "ipython",
    "version": 3
   },
   "file_extension": ".py",
   "mimetype": "text/x-python",
   "name": "python",
   "nbconvert_exporter": "python",
   "pygments_lexer": "ipython3",
   "version": "3.9.4"
  }
 },
 "nbformat": 4,
 "nbformat_minor": 5
}
